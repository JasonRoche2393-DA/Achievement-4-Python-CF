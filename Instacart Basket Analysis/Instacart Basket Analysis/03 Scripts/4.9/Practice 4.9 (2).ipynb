{
 "cells": [
  {
   "cell_type": "markdown",
   "id": "f71d89a0-6466-45ee-828f-638d9de8b4a6",
   "metadata": {},
   "source": [
    "Importing data and libraries."
   ]
  },
  {
   "cell_type": "code",
   "execution_count": 1,
   "id": "c692590c-378a-4da2-97e7-2a5578330799",
   "metadata": {},
   "outputs": [],
   "source": [
    "# Importing libraries\n",
    "import pandas as pd\n",
    "import numpy as np\n",
    "import os\n",
    "import matplotlib.pyplot as plt\n",
    "import seaborn as sns\n",
    "import scipy"
   ]
  },
  {
   "cell_type": "markdown",
   "id": "fdf17143-ba2f-4678-ba01-ecb644300784",
   "metadata": {},
   "source": [
    "Crerating data path."
   ]
  },
  {
   "cell_type": "code",
   "execution_count": 2,
   "id": "09e8a240-3ba6-497a-abd9-d5967e2e4349",
   "metadata": {},
   "outputs": [],
   "source": [
    "# Create data path\n",
    "path = r\"C:\\Users\\Jason\\Instacart Basket Analysis\""
   ]
  },
  {
   "cell_type": "code",
   "execution_count": 3,
   "id": "73098fe6-7ad5-4cce-840d-46d0fca1d6d2",
   "metadata": {},
   "outputs": [],
   "source": [
    "# Importing df\n",
    "df_ords_prods_merge = pd.read_pickle(os.path.join(path, '02 Data', 'Prepared Data', 'orders_prods_merge_derived.pkl'))"
   ]
  },
  {
   "cell_type": "code",
   "execution_count": 4,
   "id": "f3571f91-0d66-438d-8009-14152d2dd92c",
   "metadata": {},
   "outputs": [
    {
     "data": {
      "text/plain": [
       "<Axes: xlabel='prices', ylabel='prices'>"
      ]
     },
     "execution_count": 4,
     "metadata": {},
     "output_type": "execute_result"
    },
    {
     "data": {
      "image/png": "[encoded data removed]",
      "text/plain": [
       "<Figure size 640x480 with 1 Axes>"
      ]
     },
     "metadata": {},
     "output_type": "display_data"
    }
   ],
   "source": [
    "# Creating scatterplot\n",
    "sns.scatterplot(x = 'prices', y = 'prices',data = df_ords_prods_merge)"
   ]
  },
  {
   "cell_type": "code",
   "execution_count": 5,
   "id": "cbeb24d4-1ae0-4e1b-8c05-07c576c5d2e6",
   "metadata": {},
   "outputs": [
    {
     "data": {
      "text/html": [
       "<div>\n",
       "<style scoped>\n",
       "    .dataframe tbody tr th:only-of-type {\n",
       "        vertical-align: middle;\n",
       "    }\n",
       "\n",
       "    .dataframe tbody tr th {\n",
       "        vertical-align: top;\n",
       "    }\n",
       "\n",
       "    .dataframe thead th {\n",
       "        text-align: right;\n",
       "    }\n",
       "</style>\n",
       "<table border=\"1\" class=\"dataframe\">\n",
       "  <thead>\n",
       "    <tr style=\"text-align: right;\">\n",
       "      <th></th>\n",
       "      <th>order_id</th>\n",
       "      <th>user_id</th>\n",
       "      <th>order_number</th>\n",
       "      <th>orders_day_of_week</th>\n",
       "      <th>order_hour_of_day</th>\n",
       "      <th>days_since_prior_order</th>\n",
       "      <th>product_id</th>\n",
       "      <th>add_to_cart_order</th>\n",
       "      <th>reordered</th>\n",
       "      <th>product_name</th>\n",
       "      <th>...</th>\n",
       "      <th>prices</th>\n",
       "      <th>match</th>\n",
       "      <th>busiest_days</th>\n",
       "      <th>busiest_period_of_day</th>\n",
       "      <th>max_order</th>\n",
       "      <th>loyalty_flag</th>\n",
       "      <th>avg_product_price</th>\n",
       "      <th>spending_flag</th>\n",
       "      <th>median_days_between_orders</th>\n",
       "      <th>order_frequency_flag</th>\n",
       "    </tr>\n",
       "  </thead>\n",
       "  <tbody>\n",
       "    <tr>\n",
       "      <th>1576</th>\n",
       "      <td>912404</td>\n",
       "      <td>17</td>\n",
       "      <td>12</td>\n",
       "      <td>2</td>\n",
       "      <td>14</td>\n",
       "      <td>5.0</td>\n",
       "      <td>21553</td>\n",
       "      <td>5</td>\n",
       "      <td>0</td>\n",
       "      <td>Lowfat 2% Milkfat Cottage Cheese</td>\n",
       "      <td>...</td>\n",
       "      <td>14900.0</td>\n",
       "      <td>both</td>\n",
       "      <td>Regularly busy</td>\n",
       "      <td>Most orders</td>\n",
       "      <td>40</td>\n",
       "      <td>Regular customer</td>\n",
       "      <td>108.648299</td>\n",
       "      <td>High spender</td>\n",
       "      <td>5.0</td>\n",
       "      <td>Frequent customer</td>\n",
       "    </tr>\n",
       "    <tr>\n",
       "      <th>1638</th>\n",
       "      <td>603376</td>\n",
       "      <td>17</td>\n",
       "      <td>22</td>\n",
       "      <td>6</td>\n",
       "      <td>16</td>\n",
       "      <td>4.0</td>\n",
       "      <td>21553</td>\n",
       "      <td>3</td>\n",
       "      <td>1</td>\n",
       "      <td>Lowfat 2% Milkfat Cottage Cheese</td>\n",
       "      <td>...</td>\n",
       "      <td>14900.0</td>\n",
       "      <td>both</td>\n",
       "      <td>Regularly busy</td>\n",
       "      <td>Most orders</td>\n",
       "      <td>40</td>\n",
       "      <td>Regular customer</td>\n",
       "      <td>108.648299</td>\n",
       "      <td>High spender</td>\n",
       "      <td>5.0</td>\n",
       "      <td>Frequent customer</td>\n",
       "    </tr>\n",
       "    <tr>\n",
       "      <th>16522</th>\n",
       "      <td>3264360</td>\n",
       "      <td>135</td>\n",
       "      <td>2</td>\n",
       "      <td>2</td>\n",
       "      <td>21</td>\n",
       "      <td>13.0</td>\n",
       "      <td>21553</td>\n",
       "      <td>6</td>\n",
       "      <td>0</td>\n",
       "      <td>Lowfat 2% Milkfat Cottage Cheese</td>\n",
       "      <td>...</td>\n",
       "      <td>14900.0</td>\n",
       "      <td>both</td>\n",
       "      <td>Regularly busy</td>\n",
       "      <td>Average orders</td>\n",
       "      <td>4</td>\n",
       "      <td>New customer</td>\n",
       "      <td>1154.792308</td>\n",
       "      <td>High spender</td>\n",
       "      <td>11.5</td>\n",
       "      <td>Regular customer</td>\n",
       "    </tr>\n",
       "    <tr>\n",
       "      <th>16528</th>\n",
       "      <td>892534</td>\n",
       "      <td>135</td>\n",
       "      <td>3</td>\n",
       "      <td>0</td>\n",
       "      <td>8</td>\n",
       "      <td>12.0</td>\n",
       "      <td>21553</td>\n",
       "      <td>3</td>\n",
       "      <td>1</td>\n",
       "      <td>Lowfat 2% Milkfat Cottage Cheese</td>\n",
       "      <td>...</td>\n",
       "      <td>14900.0</td>\n",
       "      <td>both</td>\n",
       "      <td>Busiest days</td>\n",
       "      <td>Average orders</td>\n",
       "      <td>4</td>\n",
       "      <td>New customer</td>\n",
       "      <td>1154.792308</td>\n",
       "      <td>High spender</td>\n",
       "      <td>11.5</td>\n",
       "      <td>Regular customer</td>\n",
       "    </tr>\n",
       "    <tr>\n",
       "      <th>53672</th>\n",
       "      <td>229704</td>\n",
       "      <td>342</td>\n",
       "      <td>8</td>\n",
       "      <td>1</td>\n",
       "      <td>19</td>\n",
       "      <td>30.0</td>\n",
       "      <td>21553</td>\n",
       "      <td>9</td>\n",
       "      <td>0</td>\n",
       "      <td>Lowfat 2% Milkfat Cottage Cheese</td>\n",
       "      <td>...</td>\n",
       "      <td>14900.0</td>\n",
       "      <td>both</td>\n",
       "      <td>Busiest days</td>\n",
       "      <td>Average orders</td>\n",
       "      <td>16</td>\n",
       "      <td>Regular customer</td>\n",
       "      <td>114.426619</td>\n",
       "      <td>High spender</td>\n",
       "      <td>20.0</td>\n",
       "      <td>Regular customer</td>\n",
       "    </tr>\n",
       "    <tr>\n",
       "      <th>...</th>\n",
       "      <td>...</td>\n",
       "      <td>...</td>\n",
       "      <td>...</td>\n",
       "      <td>...</td>\n",
       "      <td>...</td>\n",
       "      <td>...</td>\n",
       "      <td>...</td>\n",
       "      <td>...</td>\n",
       "      <td>...</td>\n",
       "      <td>...</td>\n",
       "      <td>...</td>\n",
       "      <td>...</td>\n",
       "      <td>...</td>\n",
       "      <td>...</td>\n",
       "      <td>...</td>\n",
       "      <td>...</td>\n",
       "      <td>...</td>\n",
       "      <td>...</td>\n",
       "      <td>...</td>\n",
       "      <td>...</td>\n",
       "      <td>...</td>\n",
       "    </tr>\n",
       "    <tr>\n",
       "      <th>32320511</th>\n",
       "      <td>3172853</td>\n",
       "      <td>205650</td>\n",
       "      <td>18</td>\n",
       "      <td>1</td>\n",
       "      <td>9</td>\n",
       "      <td>7.0</td>\n",
       "      <td>21553</td>\n",
       "      <td>17</td>\n",
       "      <td>1</td>\n",
       "      <td>Lowfat 2% Milkfat Cottage Cheese</td>\n",
       "      <td>...</td>\n",
       "      <td>14900.0</td>\n",
       "      <td>both</td>\n",
       "      <td>Busiest days</td>\n",
       "      <td>Most orders</td>\n",
       "      <td>25</td>\n",
       "      <td>Regular customer</td>\n",
       "      <td>351.141618</td>\n",
       "      <td>High spender</td>\n",
       "      <td>6.0</td>\n",
       "      <td>Frequent customer</td>\n",
       "    </tr>\n",
       "    <tr>\n",
       "      <th>32347717</th>\n",
       "      <td>2504315</td>\n",
       "      <td>205818</td>\n",
       "      <td>3</td>\n",
       "      <td>5</td>\n",
       "      <td>15</td>\n",
       "      <td>3.0</td>\n",
       "      <td>21553</td>\n",
       "      <td>13</td>\n",
       "      <td>0</td>\n",
       "      <td>Lowfat 2% Milkfat Cottage Cheese</td>\n",
       "      <td>...</td>\n",
       "      <td>14900.0</td>\n",
       "      <td>both</td>\n",
       "      <td>Regularly busy</td>\n",
       "      <td>Most orders</td>\n",
       "      <td>25</td>\n",
       "      <td>Regular customer</td>\n",
       "      <td>170.073770</td>\n",
       "      <td>High spender</td>\n",
       "      <td>12.0</td>\n",
       "      <td>Regular customer</td>\n",
       "    </tr>\n",
       "    <tr>\n",
       "      <th>32347727</th>\n",
       "      <td>1108388</td>\n",
       "      <td>205818</td>\n",
       "      <td>5</td>\n",
       "      <td>4</td>\n",
       "      <td>5</td>\n",
       "      <td>1.0</td>\n",
       "      <td>21553</td>\n",
       "      <td>5</td>\n",
       "      <td>1</td>\n",
       "      <td>Lowfat 2% Milkfat Cottage Cheese</td>\n",
       "      <td>...</td>\n",
       "      <td>14900.0</td>\n",
       "      <td>both</td>\n",
       "      <td>Slowest days</td>\n",
       "      <td>Fewest orders</td>\n",
       "      <td>25</td>\n",
       "      <td>Regular customer</td>\n",
       "      <td>170.073770</td>\n",
       "      <td>High spender</td>\n",
       "      <td>12.0</td>\n",
       "      <td>Regular customer</td>\n",
       "    </tr>\n",
       "    <tr>\n",
       "      <th>32380527</th>\n",
       "      <td>1916142</td>\n",
       "      <td>206049</td>\n",
       "      <td>1</td>\n",
       "      <td>2</td>\n",
       "      <td>17</td>\n",
       "      <td>7.0</td>\n",
       "      <td>21553</td>\n",
       "      <td>2</td>\n",
       "      <td>0</td>\n",
       "      <td>Lowfat 2% Milkfat Cottage Cheese</td>\n",
       "      <td>...</td>\n",
       "      <td>14900.0</td>\n",
       "      <td>both</td>\n",
       "      <td>Regularly busy</td>\n",
       "      <td>Average orders</td>\n",
       "      <td>5</td>\n",
       "      <td>New customer</td>\n",
       "      <td>938.031250</td>\n",
       "      <td>High spender</td>\n",
       "      <td>7.0</td>\n",
       "      <td>Frequent customer</td>\n",
       "    </tr>\n",
       "    <tr>\n",
       "      <th>32380551</th>\n",
       "      <td>379732</td>\n",
       "      <td>206049</td>\n",
       "      <td>4</td>\n",
       "      <td>1</td>\n",
       "      <td>14</td>\n",
       "      <td>5.0</td>\n",
       "      <td>21553</td>\n",
       "      <td>4</td>\n",
       "      <td>1</td>\n",
       "      <td>Lowfat 2% Milkfat Cottage Cheese</td>\n",
       "      <td>...</td>\n",
       "      <td>14900.0</td>\n",
       "      <td>both</td>\n",
       "      <td>Busiest days</td>\n",
       "      <td>Most orders</td>\n",
       "      <td>5</td>\n",
       "      <td>New customer</td>\n",
       "      <td>938.031250</td>\n",
       "      <td>High spender</td>\n",
       "      <td>7.0</td>\n",
       "      <td>Frequent customer</td>\n",
       "    </tr>\n",
       "  </tbody>\n",
       "</table>\n",
       "<p>5127 rows × 22 columns</p>\n",
       "</div>"
      ],
      "text/plain": [
       "          order_id  user_id  order_number  orders_day_of_week  \\\n",
       "1576        912404       17            12                   2   \n",
       "1638        603376       17            22                   6   \n",
       "16522      3264360      135             2                   2   \n",
       "16528       892534      135             3                   0   \n",
       "53672       229704      342             8                   1   \n",
       "...            ...      ...           ...                 ...   \n",
       "32320511   3172853   205650            18                   1   \n",
       "32347717   2504315   205818             3                   5   \n",
       "32347727   1108388   205818             5                   4   \n",
       "32380527   1916142   206049             1                   2   \n",
       "32380551    379732   206049             4                   1   \n",
       "\n",
       "          order_hour_of_day  days_since_prior_order  product_id  \\\n",
       "1576                     14                     5.0       21553   \n",
       "1638                     16                     4.0       21553   \n",
       "16522                    21                    13.0       21553   \n",
       "16528                     8                    12.0       21553   \n",
       "53672                    19                    30.0       21553   \n",
       "...                     ...                     ...         ...   \n",
       "32320511                  9                     7.0       21553   \n",
       "32347717                 15                     3.0       21553   \n",
       "32347727                  5                     1.0       21553   \n",
       "32380527                 17                     7.0       21553   \n",
       "32380551                 14                     5.0       21553   \n",
       "\n",
       "          add_to_cart_order  reordered                      product_name  ...  \\\n",
       "1576                      5          0  Lowfat 2% Milkfat Cottage Cheese  ...   \n",
       "1638                      3          1  Lowfat 2% Milkfat Cottage Cheese  ...   \n",
       "16522                     6          0  Lowfat 2% Milkfat Cottage Cheese  ...   \n",
       "16528                     3          1  Lowfat 2% Milkfat Cottage Cheese  ...   \n",
       "53672                     9          0  Lowfat 2% Milkfat Cottage Cheese  ...   \n",
       "...                     ...        ...                               ...  ...   \n",
       "32320511                 17          1  Lowfat 2% Milkfat Cottage Cheese  ...   \n",
       "32347717                 13          0  Lowfat 2% Milkfat Cottage Cheese  ...   \n",
       "32347727                  5          1  Lowfat 2% Milkfat Cottage Cheese  ...   \n",
       "32380527                  2          0  Lowfat 2% Milkfat Cottage Cheese  ...   \n",
       "32380551                  4          1  Lowfat 2% Milkfat Cottage Cheese  ...   \n",
       "\n",
       "           prices  match    busiest_days busiest_period_of_day max_order  \\\n",
       "1576      14900.0   both  Regularly busy           Most orders        40   \n",
       "1638      14900.0   both  Regularly busy           Most orders        40   \n",
       "16522     14900.0   both  Regularly busy        Average orders         4   \n",
       "16528     14900.0   both    Busiest days        Average orders         4   \n",
       "53672     14900.0   both    Busiest days        Average orders        16   \n",
       "...           ...    ...             ...                   ...       ...   \n",
       "32320511  14900.0   both    Busiest days           Most orders        25   \n",
       "32347717  14900.0   both  Regularly busy           Most orders        25   \n",
       "32347727  14900.0   both    Slowest days         Fewest orders        25   \n",
       "32380527  14900.0   both  Regularly busy        Average orders         5   \n",
       "32380551  14900.0   both    Busiest days           Most orders         5   \n",
       "\n",
       "              loyalty_flag  avg_product_price spending_flag  \\\n",
       "1576      Regular customer         108.648299  High spender   \n",
       "1638      Regular customer         108.648299  High spender   \n",
       "16522         New customer        1154.792308  High spender   \n",
       "16528         New customer        1154.792308  High spender   \n",
       "53672     Regular customer         114.426619  High spender   \n",
       "...                    ...                ...           ...   \n",
       "32320511  Regular customer         351.141618  High spender   \n",
       "32347717  Regular customer         170.073770  High spender   \n",
       "32347727  Regular customer         170.073770  High spender   \n",
       "32380527      New customer         938.031250  High spender   \n",
       "32380551      New customer         938.031250  High spender   \n",
       "\n",
       "          median_days_between_orders order_frequency_flag  \n",
       "1576                             5.0    Frequent customer  \n",
       "1638                             5.0    Frequent customer  \n",
       "16522                           11.5     Regular customer  \n",
       "16528                           11.5     Regular customer  \n",
       "53672                           20.0     Regular customer  \n",
       "...                              ...                  ...  \n",
       "32320511                         6.0    Frequent customer  \n",
       "32347717                        12.0     Regular customer  \n",
       "32347727                        12.0     Regular customer  \n",
       "32380527                         7.0    Frequent customer  \n",
       "32380551                         7.0    Frequent customer  \n",
       "\n",
       "[5127 rows x 22 columns]"
      ]
     },
     "execution_count": 5,
     "metadata": {},
     "output_type": "execute_result"
    }
   ],
   "source": [
    "# Checking if there are any values above the threshold in my data\n",
    "df_ords_prods_merge.loc[df_ords_prods_merge['prices'] > 100]"
   ]
  },
  {
   "cell_type": "code",
   "execution_count": 6,
   "id": "d35f7735-cab2-415a-a4f7-20c7763cf6f5",
   "metadata": {},
   "outputs": [],
   "source": [
    "# marking outliers as missing\n",
    "df_ords_prods_merge.loc[df_ords_prods_merge['prices'] >100, 'prices'] = np.nan"
   ]
  },
  {
   "cell_type": "code",
   "execution_count": 7,
   "id": "7494134d-ff7d-417a-88d0-d5fad00d777b",
   "metadata": {},
   "outputs": [
    {
     "data": {
      "text/plain": [
       "25.0"
      ]
     },
     "execution_count": 7,
     "metadata": {},
     "output_type": "execute_result"
    }
   ],
   "source": [
    "df_ords_prods_merge['prices'].max()"
   ]
  },
  {
   "cell_type": "code",
   "execution_count": 8,
   "id": "9970f4e0-adf9-429b-a875-8cede562e943",
   "metadata": {},
   "outputs": [
    {
     "data": {
      "image/png": "[encoded data removed]",
      "text/plain": [
       "<Figure size 640x480 with 1 Axes>"
      ]
     },
     "metadata": {},
     "output_type": "display_data"
    }
   ],
   "source": [
    "hist = df_ords_prods_merge['prices'].plot.hist(bins = 25)"
   ]
  },
  {
   "cell_type": "code",
   "execution_count": 9,
   "id": "1031ecd7-174c-4966-bc71-e0afa4ddf760",
   "metadata": {},
   "outputs": [
    {
     "data": {
      "image/png": "[encoded data removed]",
      "text/plain": [
       "<Figure size 640x480 with 1 Axes>"
      ]
     },
     "metadata": {},
     "output_type": "display_data"
    }
   ],
   "source": [
    "hist = df_ords_prods_merge['prices'].plot.hist(bins = 70)"
   ]
  },
  {
   "cell_type": "code",
   "execution_count": 11,
   "id": "9946e4f7-9704-4885-aedc-db162d98d2b4",
   "metadata": {},
   "outputs": [],
   "source": [
    "# Exporting Histogram as image\n",
    "hist.figure.savefig(os.path.join(path, '04 Analysis','Visualisations', 'hist_orders_dow.png'))"
   ]
  },
  {
   "cell_type": "code",
   "execution_count": 12,
   "id": "949ea99d-070c-4273-8017-59495b68dd96",
   "metadata": {},
   "outputs": [],
   "source": [
    "# Sampling data\n",
    "np.random.seed(4)\n",
    "dev = np.random.rand(len(df_ords_prods_merge)) <= 0.7"
   ]
  },
  {
   "cell_type": "code",
   "execution_count": 13,
   "id": "0b847617-7c79-4dfc-b0f8-4b809e640c20",
   "metadata": {},
   "outputs": [
    {
     "data": {
      "text/plain": [
       "array([False,  True, False, ...,  True,  True,  True])"
      ]
     },
     "execution_count": 13,
     "metadata": {},
     "output_type": "execute_result"
    }
   ],
   "source": [
    "dev"
   ]
  },
  {
   "cell_type": "code",
   "execution_count": 14,
   "id": "818ee1fa-8098-4ebf-b069-abaceacb7cc6",
   "metadata": {},
   "outputs": [
    {
     "data": {
      "text/plain": [
       "array([0.93546686, 0.06557465, 0.85698584, 0.24456371, 0.22683171,\n",
       "       0.17068366, 0.27008946, 0.52534234, 0.83151571, 0.78153402])"
      ]
     },
     "execution_count": 14,
     "metadata": {},
     "output_type": "execute_result"
    }
   ],
   "source": [
    "np.random.rand(10)"
   ]
  },
  {
   "cell_type": "code",
   "execution_count": 15,
   "id": "d5e9250b-32c1-4a22-92fe-ce73064ecefe",
   "metadata": {},
   "outputs": [],
   "source": [
    "# Creating a list holding True/False values to the test np.random.rant() <= 0.7\n",
    "dev = np.random.rand(len(df_ords_prods_merge)) <= 0.7"
   ]
  },
  {
   "cell_type": "code",
   "execution_count": 16,
   "id": "9e506e5f-a946-4309-b4d3-867a14904670",
   "metadata": {},
   "outputs": [],
   "source": [
    "# Store 70% of the sample in the df big\n",
    "big = df_ords_prods_merge[dev]"
   ]
  },
  {
   "cell_type": "code",
   "execution_count": 17,
   "id": "f624ae43-57b5-4792-bdff-ecab40949fac",
   "metadata": {},
   "outputs": [],
   "source": [
    "# Store 30% of the sample in the df small\n",
    "small = df_ords_prods_merge[~dev]"
   ]
  },
  {
   "cell_type": "code",
   "execution_count": 18,
   "id": "d27d8c7f-7b79-4311-9043-670a2c244661",
   "metadata": {},
   "outputs": [
    {
     "data": {
      "text/plain": [
       "32404859"
      ]
     },
     "execution_count": 18,
     "metadata": {},
     "output_type": "execute_result"
    }
   ],
   "source": [
    "len(df_ords_prods_merge)"
   ]
  },
  {
   "cell_type": "code",
   "execution_count": 19,
   "id": "3c233baa-50a2-44f5-8614-ed95c162c6c7",
   "metadata": {},
   "outputs": [
    {
     "data": {
      "text/plain": [
       "32404859"
      ]
     },
     "execution_count": 19,
     "metadata": {},
     "output_type": "execute_result"
    }
   ],
   "source": [
    "len(big) + len(small)"
   ]
  },
  {
   "cell_type": "code",
   "execution_count": 21,
   "id": "a4230e8d-5bfb-44f6-91d3-0ed32c69cb7a",
   "metadata": {},
   "outputs": [],
   "source": [
    "# Reducing the samples to only columns that are necessary\n",
    "df_2 = small[['orders_day_of_week','prices']]"
   ]
  },
  {
   "cell_type": "code",
   "execution_count": 22,
   "id": "bf70c0b1-e892-4eef-b617-bdca66b1fec1",
   "metadata": {},
   "outputs": [
    {
     "data": {
      "image/png": "[encoded data removed]",
      "text/plain": [
       "<Figure size 640x480 with 1 Axes>"
      ]
     },
     "metadata": {},
     "output_type": "display_data"
    }
   ],
   "source": [
    "# Creating line chart\n",
    "line = sns.lineplot(data = df_2, x = 'orders_day_of_week',y = 'prices')"
   ]
  },
  {
   "cell_type": "code",
   "execution_count": 23,
   "id": "fad8d824-c9ca-4dde-b415-49bec820cee7",
   "metadata": {},
   "outputs": [],
   "source": [
    "# Exporting Line as image\n",
    "line.figure.savefig(os.path.join(path, '04 Analysis','Visualisations', 'line_orders_dow.png'))"
   ]
  },
  {
   "cell_type": "code",
   "execution_count": null,
   "id": "916a01e6-f296-47d3-ab7e-c83e63c2dac9",
   "metadata": {},
   "outputs": [],
   "source": []
  }
 ],
 "metadata": {
  "kernelspec": {
   "display_name": "Python [conda env:base] *",
   "language": "python",
   "name": "conda-base-py"
  },
  "language_info": {
   "codemirror_mode": {
    "name": "ipython",
    "version": 3
   },
   "file_extension": ".py",
   "mimetype": "text/x-python",
   "name": "python",
   "nbconvert_exporter": "python",
   "pygments_lexer": "ipython3",
   "version": "3.13.5"
  }
 },
 "nbformat": 4,
 "nbformat_minor": 5
}
