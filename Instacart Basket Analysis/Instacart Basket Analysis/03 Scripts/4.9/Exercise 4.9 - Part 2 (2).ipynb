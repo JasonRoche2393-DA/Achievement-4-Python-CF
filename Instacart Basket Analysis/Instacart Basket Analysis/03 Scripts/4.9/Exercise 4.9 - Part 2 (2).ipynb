{
 "cells": [
  {
   "cell_type": "markdown",
   "id": "578da991-4454-40df-9c59-d610ff530ede",
   "metadata": {},
   "source": [
    "I encountered some memory issues and needed to split this into part 2. In this Notebook you will see questions 6 and 7 answered."
   ]
  },
  {
   "cell_type": "markdown",
   "id": "1ce55bb6-11f8-4fc8-8bda-dc2eec0d55b3",
   "metadata": {},
   "source": [
    "Import libraries:"
   ]
  },
  {
   "cell_type": "code",
   "execution_count": 1,
   "id": "4cd22af0-f276-4e5d-abbe-69a571ea699f",
   "metadata": {},
   "outputs": [],
   "source": [
    "# import libraries\n",
    "import pandas as pd\n",
    "import numpy as np\n",
    "import os\n",
    "import matplotlib.pyplot as plt\n",
    "import seaborn as sns\n",
    "import scipy"
   ]
  },
  {
   "cell_type": "markdown",
   "id": "c6566932-64f0-4333-89f3-e5c188853365",
   "metadata": {},
   "source": [
    "Create data path:"
   ]
  },
  {
   "cell_type": "code",
   "execution_count": 2,
   "id": "b1170526-ee69-4024-a936-b3f33aeeaefb",
   "metadata": {},
   "outputs": [],
   "source": [
    "# Create data path\n",
    "path = r\"C:\\Users\\Jason\\Instacart Basket Analysis\""
   ]
  },
  {
   "cell_type": "code",
   "execution_count": 3,
   "id": "f0233d2a-3e2e-4b4e-84de-19fcad59f2dd",
   "metadata": {},
   "outputs": [],
   "source": [
    "# Importing new merged dataframe\n",
    "df_customer_ords_merged = pd.read_pickle(os.path.join(path, '02 Data', 'Prepared Data', 'orders_products_customers_merged.pkl'))"
   ]
  },
  {
   "cell_type": "code",
   "execution_count": 4,
   "id": "681b1b49-8ba1-41d2-8c35-c9bb90d8324b",
   "metadata": {},
   "outputs": [
    {
     "data": {
      "text/plain": [
       "(32404859, 32)"
      ]
     },
     "execution_count": 4,
     "metadata": {},
     "output_type": "execute_result"
    }
   ],
   "source": [
    "df_customer_ords_merged.shape"
   ]
  },
  {
   "cell_type": "code",
   "execution_count": 5,
   "id": "d0bae7a6-2f79-4ead-b895-bd8e7e8621df",
   "metadata": {
    "scrolled": true
   },
   "outputs": [
    {
     "data": {
      "text/html": [
       "<div>\n",
       "<style scoped>\n",
       "    .dataframe tbody tr th:only-of-type {\n",
       "        vertical-align: middle;\n",
       "    }\n",
       "\n",
       "    .dataframe tbody tr th {\n",
       "        vertical-align: top;\n",
       "    }\n",
       "\n",
       "    .dataframe thead th {\n",
       "        text-align: right;\n",
       "    }\n",
       "</style>\n",
       "<table border=\"1\" class=\"dataframe\">\n",
       "  <thead>\n",
       "    <tr style=\"text-align: right;\">\n",
       "      <th></th>\n",
       "      <th>order_id</th>\n",
       "      <th>user_id</th>\n",
       "      <th>order_number</th>\n",
       "      <th>orders_day_of_week</th>\n",
       "      <th>order_hour_of_day</th>\n",
       "      <th>days_since_prior_order</th>\n",
       "      <th>product_id</th>\n",
       "      <th>add_to_cart_order</th>\n",
       "      <th>reordered</th>\n",
       "      <th>product_name</th>\n",
       "      <th>...</th>\n",
       "      <th>Unnamed: 0</th>\n",
       "      <th>First Name</th>\n",
       "      <th>Surname</th>\n",
       "      <th>Gender</th>\n",
       "      <th>State</th>\n",
       "      <th>Age</th>\n",
       "      <th>Date Joined</th>\n",
       "      <th>Number of Dependents</th>\n",
       "      <th>Family Status</th>\n",
       "      <th>Income</th>\n",
       "    </tr>\n",
       "  </thead>\n",
       "  <tbody>\n",
       "    <tr>\n",
       "      <th>0</th>\n",
       "      <td>2539329</td>\n",
       "      <td>1</td>\n",
       "      <td>1</td>\n",
       "      <td>2</td>\n",
       "      <td>8</td>\n",
       "      <td>7.0</td>\n",
       "      <td>196</td>\n",
       "      <td>1</td>\n",
       "      <td>0</td>\n",
       "      <td>Soda</td>\n",
       "      <td>...</td>\n",
       "      <td>134862</td>\n",
       "      <td>Linda</td>\n",
       "      <td>Nguyen</td>\n",
       "      <td>Female</td>\n",
       "      <td>Alabama</td>\n",
       "      <td>31</td>\n",
       "      <td>2/17/2019</td>\n",
       "      <td>3</td>\n",
       "      <td>married</td>\n",
       "      <td>40423</td>\n",
       "    </tr>\n",
       "    <tr>\n",
       "      <th>1</th>\n",
       "      <td>2539329</td>\n",
       "      <td>1</td>\n",
       "      <td>1</td>\n",
       "      <td>2</td>\n",
       "      <td>8</td>\n",
       "      <td>7.0</td>\n",
       "      <td>14084</td>\n",
       "      <td>2</td>\n",
       "      <td>0</td>\n",
       "      <td>Organic Unsweetened Vanilla Almond Milk</td>\n",
       "      <td>...</td>\n",
       "      <td>134862</td>\n",
       "      <td>Linda</td>\n",
       "      <td>Nguyen</td>\n",
       "      <td>Female</td>\n",
       "      <td>Alabama</td>\n",
       "      <td>31</td>\n",
       "      <td>2/17/2019</td>\n",
       "      <td>3</td>\n",
       "      <td>married</td>\n",
       "      <td>40423</td>\n",
       "    </tr>\n",
       "    <tr>\n",
       "      <th>2</th>\n",
       "      <td>2539329</td>\n",
       "      <td>1</td>\n",
       "      <td>1</td>\n",
       "      <td>2</td>\n",
       "      <td>8</td>\n",
       "      <td>7.0</td>\n",
       "      <td>12427</td>\n",
       "      <td>3</td>\n",
       "      <td>0</td>\n",
       "      <td>Original Beef Jerky</td>\n",
       "      <td>...</td>\n",
       "      <td>134862</td>\n",
       "      <td>Linda</td>\n",
       "      <td>Nguyen</td>\n",
       "      <td>Female</td>\n",
       "      <td>Alabama</td>\n",
       "      <td>31</td>\n",
       "      <td>2/17/2019</td>\n",
       "      <td>3</td>\n",
       "      <td>married</td>\n",
       "      <td>40423</td>\n",
       "    </tr>\n",
       "    <tr>\n",
       "      <th>3</th>\n",
       "      <td>2539329</td>\n",
       "      <td>1</td>\n",
       "      <td>1</td>\n",
       "      <td>2</td>\n",
       "      <td>8</td>\n",
       "      <td>7.0</td>\n",
       "      <td>26088</td>\n",
       "      <td>4</td>\n",
       "      <td>0</td>\n",
       "      <td>Aged White Cheddar Popcorn</td>\n",
       "      <td>...</td>\n",
       "      <td>134862</td>\n",
       "      <td>Linda</td>\n",
       "      <td>Nguyen</td>\n",
       "      <td>Female</td>\n",
       "      <td>Alabama</td>\n",
       "      <td>31</td>\n",
       "      <td>2/17/2019</td>\n",
       "      <td>3</td>\n",
       "      <td>married</td>\n",
       "      <td>40423</td>\n",
       "    </tr>\n",
       "    <tr>\n",
       "      <th>4</th>\n",
       "      <td>2539329</td>\n",
       "      <td>1</td>\n",
       "      <td>1</td>\n",
       "      <td>2</td>\n",
       "      <td>8</td>\n",
       "      <td>7.0</td>\n",
       "      <td>26405</td>\n",
       "      <td>5</td>\n",
       "      <td>0</td>\n",
       "      <td>XL Pick-A-Size Paper Towel Rolls</td>\n",
       "      <td>...</td>\n",
       "      <td>134862</td>\n",
       "      <td>Linda</td>\n",
       "      <td>Nguyen</td>\n",
       "      <td>Female</td>\n",
       "      <td>Alabama</td>\n",
       "      <td>31</td>\n",
       "      <td>2/17/2019</td>\n",
       "      <td>3</td>\n",
       "      <td>married</td>\n",
       "      <td>40423</td>\n",
       "    </tr>\n",
       "  </tbody>\n",
       "</table>\n",
       "<p>5 rows × 32 columns</p>\n",
       "</div>"
      ],
      "text/plain": [
       "   order_id  user_id  order_number  orders_day_of_week  order_hour_of_day  \\\n",
       "0   2539329        1             1                   2                  8   \n",
       "1   2539329        1             1                   2                  8   \n",
       "2   2539329        1             1                   2                  8   \n",
       "3   2539329        1             1                   2                  8   \n",
       "4   2539329        1             1                   2                  8   \n",
       "\n",
       "   days_since_prior_order  product_id  add_to_cart_order  reordered  \\\n",
       "0                     7.0         196                  1          0   \n",
       "1                     7.0       14084                  2          0   \n",
       "2                     7.0       12427                  3          0   \n",
       "3                     7.0       26088                  4          0   \n",
       "4                     7.0       26405                  5          0   \n",
       "\n",
       "                              product_name  ...  Unnamed: 0  First Name  \\\n",
       "0                                     Soda  ...      134862       Linda   \n",
       "1  Organic Unsweetened Vanilla Almond Milk  ...      134862       Linda   \n",
       "2                      Original Beef Jerky  ...      134862       Linda   \n",
       "3               Aged White Cheddar Popcorn  ...      134862       Linda   \n",
       "4         XL Pick-A-Size Paper Towel Rolls  ...      134862       Linda   \n",
       "\n",
       "   Surname  Gender    State Age  Date Joined Number of Dependents  \\\n",
       "0   Nguyen  Female  Alabama  31    2/17/2019                    3   \n",
       "1   Nguyen  Female  Alabama  31    2/17/2019                    3   \n",
       "2   Nguyen  Female  Alabama  31    2/17/2019                    3   \n",
       "3   Nguyen  Female  Alabama  31    2/17/2019                    3   \n",
       "4   Nguyen  Female  Alabama  31    2/17/2019                    3   \n",
       "\n",
       "   Family Status Income  \n",
       "0        married  40423  \n",
       "1        married  40423  \n",
       "2        married  40423  \n",
       "3        married  40423  \n",
       "4        married  40423  \n",
       "\n",
       "[5 rows x 32 columns]"
      ]
     },
     "execution_count": 5,
     "metadata": {},
     "output_type": "execute_result"
    }
   ],
   "source": [
    "df_customer_ords_merged.head() "
   ]
  },
  {
   "cell_type": "markdown",
   "id": "0fa56c25-48cf-4893-bfb5-3e4dece2cee0",
   "metadata": {},
   "source": [
    "6. Now that you have information about customers, you need to conduct some exploratory analysis of customer demographics to inform the targeted marketing campaigns. First, determine whether there’s a connection between age and family situation by creating a line chart exploring the connections between age and number of dependents:"
   ]
  },
  {
   "cell_type": "code",
   "execution_count": 6,
   "id": "b2a1d409-fb92-4672-89c7-f18337bb707b",
   "metadata": {},
   "outputs": [],
   "source": [
    "# Creating an accurate sample for connection between age and family\n",
    "np.random.seed(4)"
   ]
  },
  {
   "cell_type": "code",
   "execution_count": 7,
   "id": "f74ca51e-5ac0-42be-8bba-084b9e6209c0",
   "metadata": {},
   "outputs": [],
   "source": [
    "# Creating an accurate sample for connection between age and family\n",
    "dev_2 = np.random.rand(len(df_customer_ords_merged)) <= 0.7"
   ]
  },
  {
   "cell_type": "code",
   "execution_count": 8,
   "id": "1c2a3971-d2fa-4613-8fea-ae26ee43c1fb",
   "metadata": {},
   "outputs": [],
   "source": [
    "# Creating an accurate sample for connection between age and family\n",
    "big_2 = df_customer_ords_merged[dev_2]"
   ]
  },
  {
   "cell_type": "code",
   "execution_count": 9,
   "id": "efa1670f-756d-4b55-a606-ee906f423c08",
   "metadata": {},
   "outputs": [],
   "source": [
    "# Creating an accurate sample for connection between age and family\n",
    "small_2 = df_customer_ords_merged[~dev_2]"
   ]
  },
  {
   "cell_type": "code",
   "execution_count": 10,
   "id": "fa466c45-637c-48a4-b7b5-e014b8bcd4d0",
   "metadata": {},
   "outputs": [
    {
     "data": {
      "text/plain": [
       "32404859"
      ]
     },
     "execution_count": 10,
     "metadata": {},
     "output_type": "execute_result"
    }
   ],
   "source": [
    "#Reviewing output\n",
    "len(df_customer_ords_merged)"
   ]
  },
  {
   "cell_type": "code",
   "execution_count": 11,
   "id": "08f9047e-548c-49c2-be08-1fa50411f42e",
   "metadata": {},
   "outputs": [
    {
     "data": {
      "text/plain": [
       "32404859"
      ]
     },
     "execution_count": 11,
     "metadata": {},
     "output_type": "execute_result"
    }
   ],
   "source": [
    "#Reviewing output\n",
    "len(big_2) + len (small_2)"
   ]
  },
  {
   "cell_type": "code",
   "execution_count": 12,
   "id": "32aaa632-1996-477b-bc2a-3a80292244fc",
   "metadata": {},
   "outputs": [],
   "source": [
    "# Creating 'relevant_columns' variable for the chart\n",
    "df_relevant_columns_2 = small_2[['Age', 'Number of Dependents']]"
   ]
  },
  {
   "cell_type": "code",
   "execution_count": 13,
   "id": "f468c0b9-b9f5-4503-9813-b369ab112ff3",
   "metadata": {
    "scrolled": true
   },
   "outputs": [
    {
     "data": {
      "image/png": "[encoded data removed]",
      "text/plain": [
       "<Figure size 640x480 with 1 Axes>"
      ]
     },
     "metadata": {},
     "output_type": "display_data"
    }
   ],
   "source": [
    "# Creating line chart\n",
    "line_2 = sns.lineplot(data = df_relevant_columns_2, x = 'Age', y = 'Number of Dependents')"
   ]
  },
  {
   "cell_type": "markdown",
   "id": "d82f08fe-a3a9-41b1-aa60-763584c7a746",
   "metadata": {},
   "source": [
    "From the line chart, it is hard to see any clear relationship between the variables of age and number of dependents. I think we would need to view other variables to possible find any patterns."
   ]
  },
  {
   "cell_type": "code",
   "execution_count": 14,
   "id": "881a855d-7a91-443a-9ad3-1f469f0d82ce",
   "metadata": {},
   "outputs": [],
   "source": [
    "# Exporting images. Second line chart seen in Step 6\n",
    "line_2.figure.savefig(os.path.join(path, '04 Analysis', 'Visualisations', 'age_num_of_dependents_line_chart.png'))"
   ]
  },
  {
   "cell_type": "code",
   "execution_count": null,
   "id": "39e96aa2-0f42-4305-a2cd-a1ddd84989e1",
   "metadata": {},
   "outputs": [],
   "source": [
    "import matplotlib.pyplot as plt9\n",
    "import pandas as pd\n",
    "\n",
    "# Step 1: Filter to top 10 products\n",
    "top_products = df_customer_ords_merged['product_name'].value_counts().head(10).index\n",
    "filtered_df = df_customer_ords_merged[df_customer_ords_merged['product_name'].isin(top_products)]\n",
    "\n",
    "# Step 2: Group by Family Status and Product Name\n",
    "product_counts = filtered_df.groupby(['Family Status', 'product_name']).size().unstack(fill_value=0)\n",
    "\n",
    "# Optional: Sort products by total purchases for cleaner display\n",
    "product_counts = product_counts.loc[:, product_counts.sum(axis=0).sort_values(ascending=False).index]\n",
    "\n",
    "# Step 3: Plot horizontal stacked bar chart\n",
    "plt9.figure(figsize=(12, 8))\n",
    "product_counts.T.plot(kind='barh', stacked=True, colormap='tab20')\n",
    "\n",
    "# Step 4: Customize the plot\n",
    "plt9.title('Top 10 Products Purchased by Family Status')\n",
    "plt9.xlabel('Number of Purchases')\n",
    "plt9.ylabel('Product Name')\n",
    "plt9.legend(title='Family Status', bbox_to_anchor=(1.05, 1), loc='upper left')\n",
    "\n",
    "# Prevent layout issues\n",
    "plt9.tight_layout()\n",
    "\n",
    "# Step 5: Show the chart\n",
    "plt9.show()\n"
   ]
  },
  {
   "cell_type": "code",
   "execution_count": null,
   "id": "84b54f2d-2472-4c2d-9f21-f5ce1585c846",
   "metadata": {},
   "outputs": [],
   "source": []
  }
 ],
 "metadata": {
  "kernelspec": {
   "display_name": "Python [conda env:base] *",
   "language": "python",
   "name": "conda-base-py"
  },
  "language_info": {
   "codemirror_mode": {
    "name": "ipython",
    "version": 3
   },
   "file_extension": ".py",
   "mimetype": "text/x-python",
   "name": "python",
   "nbconvert_exporter": "python",
   "pygments_lexer": "ipython3",
   "version": "3.13.5"
  }
 },
 "nbformat": 4,
 "nbformat_minor": 5
}
