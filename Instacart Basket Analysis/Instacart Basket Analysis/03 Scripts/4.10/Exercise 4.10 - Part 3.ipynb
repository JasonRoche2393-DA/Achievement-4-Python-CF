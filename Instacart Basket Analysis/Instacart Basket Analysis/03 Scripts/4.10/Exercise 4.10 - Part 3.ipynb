{
 "cells": [
  {
   "cell_type": "markdown",
   "id": "005cc9b8-564b-4a80-8e5b-7c1a45461087",
   "metadata": {},
   "source": [
    "I encountered further memory and performance issues, so this notebook contains the answer for questions 5-8 of Exercise 4.10."
   ]
  },
  {
   "cell_type": "markdown",
   "id": "334e5af5-1669-4383-bfa8-d6553f9b3556",
   "metadata": {},
   "source": [
    "5. The marketing and business strategy units at Instacart want to create more-relevant marketing strategies for different products and are, thus, curious about customer profiling in their database. Create a profiling variable based on age, income, certain goods in the “department_id” column, and number of dependents. You might also use the “orders_day_of_week” and “order_hour_of_day” columns if you can think of a way they would impact customer profiles. "
   ]
  },
  {
   "cell_type": "markdown",
   "id": "3ad04c1d-529a-49a3-9991-848a58b03545",
   "metadata": {},
   "source": [
    "Importing libraries:"
   ]
  },
  {
   "cell_type": "code",
   "execution_count": 1,
   "id": "d62c4146-5e9c-45d2-b2a2-94843c4ad28e",
   "metadata": {},
   "outputs": [],
   "source": [
    "# import libraries\n",
    "import pandas as pd\n",
    "import numpy as np\n",
    "import os\n",
    "import matplotlib.pyplot as plt\n",
    "import seaborn as sns\n",
    "import scipy"
   ]
  },
  {
   "cell_type": "markdown",
   "id": "5b707e4c-ee6e-4b48-b83c-711aa3dd2fa2",
   "metadata": {},
   "source": [
    "Create data path:"
   ]
  },
  {
   "cell_type": "code",
   "execution_count": 2,
   "id": "ae7b23b2-0b5c-4476-879b-5419081d1904",
   "metadata": {},
   "outputs": [],
   "source": [
    "# Create data path\n",
    "path = r\"C:\\Users\\Jason\\Instacart Basket Analysis\""
   ]
  },
  {
   "cell_type": "code",
   "execution_count": 3,
   "id": "7da3a428-9ad9-4152-bd56-6a1dbbc28dd6",
   "metadata": {},
   "outputs": [],
   "source": [
    "# Importing dataframe\n",
    "df_customer_ords_merged_risk_free = pd.read_pickle(os.path.join(path, '02 Data', 'Prepared Data', 'df_customer_ords_merged_risk_free.pkl'))"
   ]
  },
  {
   "cell_type": "code",
   "execution_count": 4,
   "id": "4eb19c51-0a0a-4460-b044-ce6c39b13553",
   "metadata": {},
   "outputs": [],
   "source": [
    "# Importing active_customers df\n",
    "active_customers = pd.read_pickle(os.path.join(path, '02 Data', 'Prepared Data', 'df_active_customers.pkl'))"
   ]
  },
  {
   "cell_type": "code",
   "execution_count": 5,
   "id": "1f508fcb-f399-49ad-aa4c-14c42ca83e08",
   "metadata": {
    "scrolled": true
   },
   "outputs": [
    {
     "data": {
      "text/html": [
       "<div>\n",
       "<style scoped>\n",
       "    .dataframe tbody tr th:only-of-type {\n",
       "        vertical-align: middle;\n",
       "    }\n",
       "\n",
       "    .dataframe tbody tr th {\n",
       "        vertical-align: top;\n",
       "    }\n",
       "\n",
       "    .dataframe thead th {\n",
       "        text-align: right;\n",
       "    }\n",
       "</style>\n",
       "<table border=\"1\" class=\"dataframe\">\n",
       "  <thead>\n",
       "    <tr style=\"text-align: right;\">\n",
       "      <th></th>\n",
       "      <th>order_id</th>\n",
       "      <th>user_id</th>\n",
       "      <th>order_number</th>\n",
       "      <th>orders_day_of_week</th>\n",
       "      <th>order_hour_of_day</th>\n",
       "      <th>days_since_prior_order</th>\n",
       "      <th>product_id</th>\n",
       "      <th>add_to_cart_order</th>\n",
       "      <th>reordered</th>\n",
       "      <th>product_name</th>\n",
       "      <th>...</th>\n",
       "      <th>Gender</th>\n",
       "      <th>State</th>\n",
       "      <th>Age</th>\n",
       "      <th>Date Joined</th>\n",
       "      <th>Number of Dependents</th>\n",
       "      <th>Family Status</th>\n",
       "      <th>Income</th>\n",
       "      <th>Region</th>\n",
       "      <th>exclusion_flag</th>\n",
       "      <th>profile_segment</th>\n",
       "    </tr>\n",
       "  </thead>\n",
       "  <tbody>\n",
       "    <tr>\n",
       "      <th>21</th>\n",
       "      <td>431534</td>\n",
       "      <td>1</td>\n",
       "      <td>5</td>\n",
       "      <td>4</td>\n",
       "      <td>15</td>\n",
       "      <td>28.0</td>\n",
       "      <td>196</td>\n",
       "      <td>1</td>\n",
       "      <td>1</td>\n",
       "      <td>Soda</td>\n",
       "      <td>...</td>\n",
       "      <td>Female</td>\n",
       "      <td>Alabama</td>\n",
       "      <td>31</td>\n",
       "      <td>2/17/2019</td>\n",
       "      <td>3</td>\n",
       "      <td>married</td>\n",
       "      <td>40423</td>\n",
       "      <td>South</td>\n",
       "      <td>False</td>\n",
       "      <td>Has dependents + Standard/Lower Income level</td>\n",
       "    </tr>\n",
       "    <tr>\n",
       "      <th>22</th>\n",
       "      <td>431534</td>\n",
       "      <td>1</td>\n",
       "      <td>5</td>\n",
       "      <td>4</td>\n",
       "      <td>15</td>\n",
       "      <td>28.0</td>\n",
       "      <td>12427</td>\n",
       "      <td>2</td>\n",
       "      <td>1</td>\n",
       "      <td>Original Beef Jerky</td>\n",
       "      <td>...</td>\n",
       "      <td>Female</td>\n",
       "      <td>Alabama</td>\n",
       "      <td>31</td>\n",
       "      <td>2/17/2019</td>\n",
       "      <td>3</td>\n",
       "      <td>married</td>\n",
       "      <td>40423</td>\n",
       "      <td>South</td>\n",
       "      <td>False</td>\n",
       "      <td>Has dependents + Standard/Lower Income level</td>\n",
       "    </tr>\n",
       "    <tr>\n",
       "      <th>23</th>\n",
       "      <td>431534</td>\n",
       "      <td>1</td>\n",
       "      <td>5</td>\n",
       "      <td>4</td>\n",
       "      <td>15</td>\n",
       "      <td>28.0</td>\n",
       "      <td>10258</td>\n",
       "      <td>3</td>\n",
       "      <td>1</td>\n",
       "      <td>Pistachios</td>\n",
       "      <td>...</td>\n",
       "      <td>Female</td>\n",
       "      <td>Alabama</td>\n",
       "      <td>31</td>\n",
       "      <td>2/17/2019</td>\n",
       "      <td>3</td>\n",
       "      <td>married</td>\n",
       "      <td>40423</td>\n",
       "      <td>South</td>\n",
       "      <td>False</td>\n",
       "      <td>Has dependents + Standard/Lower Income level</td>\n",
       "    </tr>\n",
       "    <tr>\n",
       "      <th>24</th>\n",
       "      <td>431534</td>\n",
       "      <td>1</td>\n",
       "      <td>5</td>\n",
       "      <td>4</td>\n",
       "      <td>15</td>\n",
       "      <td>28.0</td>\n",
       "      <td>25133</td>\n",
       "      <td>4</td>\n",
       "      <td>1</td>\n",
       "      <td>Organic String Cheese</td>\n",
       "      <td>...</td>\n",
       "      <td>Female</td>\n",
       "      <td>Alabama</td>\n",
       "      <td>31</td>\n",
       "      <td>2/17/2019</td>\n",
       "      <td>3</td>\n",
       "      <td>married</td>\n",
       "      <td>40423</td>\n",
       "      <td>South</td>\n",
       "      <td>False</td>\n",
       "      <td>Has dependents + Standard/Lower Income level</td>\n",
       "    </tr>\n",
       "    <tr>\n",
       "      <th>25</th>\n",
       "      <td>431534</td>\n",
       "      <td>1</td>\n",
       "      <td>5</td>\n",
       "      <td>4</td>\n",
       "      <td>15</td>\n",
       "      <td>28.0</td>\n",
       "      <td>10326</td>\n",
       "      <td>5</td>\n",
       "      <td>0</td>\n",
       "      <td>Organic Fuji Apples</td>\n",
       "      <td>...</td>\n",
       "      <td>Female</td>\n",
       "      <td>Alabama</td>\n",
       "      <td>31</td>\n",
       "      <td>2/17/2019</td>\n",
       "      <td>3</td>\n",
       "      <td>married</td>\n",
       "      <td>40423</td>\n",
       "      <td>South</td>\n",
       "      <td>False</td>\n",
       "      <td>Has dependents + Standard/Lower Income level</td>\n",
       "    </tr>\n",
       "    <tr>\n",
       "      <th>26</th>\n",
       "      <td>431534</td>\n",
       "      <td>1</td>\n",
       "      <td>5</td>\n",
       "      <td>4</td>\n",
       "      <td>15</td>\n",
       "      <td>28.0</td>\n",
       "      <td>17122</td>\n",
       "      <td>6</td>\n",
       "      <td>0</td>\n",
       "      <td>Honeycrisp Apples</td>\n",
       "      <td>...</td>\n",
       "      <td>Female</td>\n",
       "      <td>Alabama</td>\n",
       "      <td>31</td>\n",
       "      <td>2/17/2019</td>\n",
       "      <td>3</td>\n",
       "      <td>married</td>\n",
       "      <td>40423</td>\n",
       "      <td>South</td>\n",
       "      <td>False</td>\n",
       "      <td>Has dependents + Standard/Lower Income level</td>\n",
       "    </tr>\n",
       "    <tr>\n",
       "      <th>27</th>\n",
       "      <td>431534</td>\n",
       "      <td>1</td>\n",
       "      <td>5</td>\n",
       "      <td>4</td>\n",
       "      <td>15</td>\n",
       "      <td>28.0</td>\n",
       "      <td>41787</td>\n",
       "      <td>7</td>\n",
       "      <td>0</td>\n",
       "      <td>Bartlett Pears</td>\n",
       "      <td>...</td>\n",
       "      <td>Female</td>\n",
       "      <td>Alabama</td>\n",
       "      <td>31</td>\n",
       "      <td>2/17/2019</td>\n",
       "      <td>3</td>\n",
       "      <td>married</td>\n",
       "      <td>40423</td>\n",
       "      <td>South</td>\n",
       "      <td>False</td>\n",
       "      <td>Has dependents + Standard/Lower Income level</td>\n",
       "    </tr>\n",
       "    <tr>\n",
       "      <th>28</th>\n",
       "      <td>431534</td>\n",
       "      <td>1</td>\n",
       "      <td>5</td>\n",
       "      <td>4</td>\n",
       "      <td>15</td>\n",
       "      <td>28.0</td>\n",
       "      <td>13176</td>\n",
       "      <td>8</td>\n",
       "      <td>1</td>\n",
       "      <td>Bag of Organic Bananas</td>\n",
       "      <td>...</td>\n",
       "      <td>Female</td>\n",
       "      <td>Alabama</td>\n",
       "      <td>31</td>\n",
       "      <td>2/17/2019</td>\n",
       "      <td>3</td>\n",
       "      <td>married</td>\n",
       "      <td>40423</td>\n",
       "      <td>South</td>\n",
       "      <td>False</td>\n",
       "      <td>Has dependents + Standard/Lower Income level</td>\n",
       "    </tr>\n",
       "    <tr>\n",
       "      <th>29</th>\n",
       "      <td>3367565</td>\n",
       "      <td>1</td>\n",
       "      <td>6</td>\n",
       "      <td>2</td>\n",
       "      <td>7</td>\n",
       "      <td>19.0</td>\n",
       "      <td>196</td>\n",
       "      <td>1</td>\n",
       "      <td>1</td>\n",
       "      <td>Soda</td>\n",
       "      <td>...</td>\n",
       "      <td>Female</td>\n",
       "      <td>Alabama</td>\n",
       "      <td>31</td>\n",
       "      <td>2/17/2019</td>\n",
       "      <td>3</td>\n",
       "      <td>married</td>\n",
       "      <td>40423</td>\n",
       "      <td>South</td>\n",
       "      <td>False</td>\n",
       "      <td>Has dependents + Standard/Lower Income level</td>\n",
       "    </tr>\n",
       "    <tr>\n",
       "      <th>30</th>\n",
       "      <td>3367565</td>\n",
       "      <td>1</td>\n",
       "      <td>6</td>\n",
       "      <td>2</td>\n",
       "      <td>7</td>\n",
       "      <td>19.0</td>\n",
       "      <td>12427</td>\n",
       "      <td>2</td>\n",
       "      <td>1</td>\n",
       "      <td>Original Beef Jerky</td>\n",
       "      <td>...</td>\n",
       "      <td>Female</td>\n",
       "      <td>Alabama</td>\n",
       "      <td>31</td>\n",
       "      <td>2/17/2019</td>\n",
       "      <td>3</td>\n",
       "      <td>married</td>\n",
       "      <td>40423</td>\n",
       "      <td>South</td>\n",
       "      <td>False</td>\n",
       "      <td>Has dependents + Standard/Lower Income level</td>\n",
       "    </tr>\n",
       "  </tbody>\n",
       "</table>\n",
       "<p>10 rows × 33 columns</p>\n",
       "</div>"
      ],
      "text/plain": [
       "    order_id  user_id  order_number  orders_day_of_week  order_hour_of_day  \\\n",
       "21    431534        1             5                   4                 15   \n",
       "22    431534        1             5                   4                 15   \n",
       "23    431534        1             5                   4                 15   \n",
       "24    431534        1             5                   4                 15   \n",
       "25    431534        1             5                   4                 15   \n",
       "26    431534        1             5                   4                 15   \n",
       "27    431534        1             5                   4                 15   \n",
       "28    431534        1             5                   4                 15   \n",
       "29   3367565        1             6                   2                  7   \n",
       "30   3367565        1             6                   2                  7   \n",
       "\n",
       "    days_since_prior_order  product_id  add_to_cart_order  reordered  \\\n",
       "21                    28.0         196                  1          1   \n",
       "22                    28.0       12427                  2          1   \n",
       "23                    28.0       10258                  3          1   \n",
       "24                    28.0       25133                  4          1   \n",
       "25                    28.0       10326                  5          0   \n",
       "26                    28.0       17122                  6          0   \n",
       "27                    28.0       41787                  7          0   \n",
       "28                    28.0       13176                  8          1   \n",
       "29                    19.0         196                  1          1   \n",
       "30                    19.0       12427                  2          1   \n",
       "\n",
       "              product_name  ...  Gender    State  Age Date Joined  \\\n",
       "21                    Soda  ...  Female  Alabama   31   2/17/2019   \n",
       "22     Original Beef Jerky  ...  Female  Alabama   31   2/17/2019   \n",
       "23              Pistachios  ...  Female  Alabama   31   2/17/2019   \n",
       "24   Organic String Cheese  ...  Female  Alabama   31   2/17/2019   \n",
       "25     Organic Fuji Apples  ...  Female  Alabama   31   2/17/2019   \n",
       "26       Honeycrisp Apples  ...  Female  Alabama   31   2/17/2019   \n",
       "27          Bartlett Pears  ...  Female  Alabama   31   2/17/2019   \n",
       "28  Bag of Organic Bananas  ...  Female  Alabama   31   2/17/2019   \n",
       "29                    Soda  ...  Female  Alabama   31   2/17/2019   \n",
       "30     Original Beef Jerky  ...  Female  Alabama   31   2/17/2019   \n",
       "\n",
       "   Number of Dependents Family Status  Income Region  exclusion_flag  \\\n",
       "21                    3       married   40423  South           False   \n",
       "22                    3       married   40423  South           False   \n",
       "23                    3       married   40423  South           False   \n",
       "24                    3       married   40423  South           False   \n",
       "25                    3       married   40423  South           False   \n",
       "26                    3       married   40423  South           False   \n",
       "27                    3       married   40423  South           False   \n",
       "28                    3       married   40423  South           False   \n",
       "29                    3       married   40423  South           False   \n",
       "30                    3       married   40423  South           False   \n",
       "\n",
       "                                 profile_segment  \n",
       "21  Has dependents + Standard/Lower Income level  \n",
       "22  Has dependents + Standard/Lower Income level  \n",
       "23  Has dependents + Standard/Lower Income level  \n",
       "24  Has dependents + Standard/Lower Income level  \n",
       "25  Has dependents + Standard/Lower Income level  \n",
       "26  Has dependents + Standard/Lower Income level  \n",
       "27  Has dependents + Standard/Lower Income level  \n",
       "28  Has dependents + Standard/Lower Income level  \n",
       "29  Has dependents + Standard/Lower Income level  \n",
       "30  Has dependents + Standard/Lower Income level  \n",
       "\n",
       "[10 rows x 33 columns]"
      ]
     },
     "execution_count": 5,
     "metadata": {},
     "output_type": "execute_result"
    }
   ],
   "source": [
    "active_customers.head(10)"
   ]
  },
  {
   "cell_type": "markdown",
   "id": "ca7e0443-32fa-4b35-a702-047d0cb32f84",
   "metadata": {},
   "source": [
    "- For this section I chose to look at combining number of dependents and salaries and then also the age profiles who do not have dependents.\n",
    "  1. Someone who has dependents and would be classified as having a higher income at over 100,000 = 'Has dependents + Higher Income level'\n",
    "  2. Someone who has dependents and would be classified as a standard/lower income at under 100,000 = 'Has dependents + Standard/Lower Income level'\n",
    "  3. Someone who is under 30 and has no dependents = 'Under 30 + No dependents'\n",
    "  4. Someone who is over 30 and has no dependents - 'Over 30 + No dependents'"
   ]
  },
  {
   "cell_type": "code",
   "execution_count": 6,
   "id": "2c6edcee-d626-4e1c-a7f9-982800baabef",
   "metadata": {},
   "outputs": [],
   "source": [
    "def profile_segment(row):\n",
    "    if row['Number of Dependents'] >= 2 and row['Income'] > 100000:\n",
    "        return 'Has dependents + Higher Income level'\n",
    "    elif row['Number of Dependents'] >= 2:\n",
    "        return 'Has dependents + Standard/Lower Income level'\n",
    "    elif row['Number of Dependents'] == 0 and row['Age'] < 30:\n",
    "        return 'Under 30 + No dependents'\n",
    "    elif row['Number of Dependents'] == 0 and row['Age'] >=30:\n",
    "        return '30 or older + No dependents'\n",
    "    else:\n",
    "        return 'Not defined'"
   ]
  },
  {
   "cell_type": "code",
   "execution_count": 7,
   "id": "2a4443a8-d4aa-47a2-964b-d56ad40aee15",
   "metadata": {},
   "outputs": [],
   "source": [
    "# Using segment on active_customers\n",
    "active_customers['profile_segment'] = active_customers.apply(profile_segment, axis=1)"
   ]
  },
  {
   "cell_type": "code",
   "execution_count": 8,
   "id": "0433129d-dd50-4193-8f57-f7dbaca7ba84",
   "metadata": {},
   "outputs": [
    {
     "data": {
      "text/plain": [
       "profile_segment\n",
       "Has dependents + Standard/Lower Income level    6607012\n",
       "Not defined                                     6082107\n",
       "Has dependents + Higher Income level            5620756\n",
       "30 or older + No dependents                     4966944\n",
       "Under 30 + No dependents                        1138058\n",
       "Name: count, dtype: int64"
      ]
     },
     "execution_count": 8,
     "metadata": {},
     "output_type": "execute_result"
    }
   ],
   "source": [
    "# Checking the output\n",
    "active_customers['profile_segment'].value_counts(dropna=False)"
   ]
  },
  {
   "cell_type": "markdown",
   "id": "547b1d07-c8f9-4238-a89b-47a40f1b8f63",
   "metadata": {},
   "source": [
    "6. Create an appropriate visualization to show the distribution of profiles."
   ]
  },
  {
   "cell_type": "markdown",
   "id": "5f0a1ac1-a40f-4a6f-9db9-8dec1807e546",
   "metadata": {},
   "source": [
    "- I chose a horizontal bar chart to visualise this info. This shows a clear distribution of the customer types, I believe."
   ]
  },
  {
   "cell_type": "code",
   "execution_count": 9,
   "id": "4d49620b-3fa5-453f-b536-e44b5266cb76",
   "metadata": {
    "scrolled": true
   },
   "outputs": [
    {
     "data": {
      "image/png": "[encoded data removed]",
      "text/plain": [
       "<Figure size 640x480 with 1 Axes>"
      ]
     },
     "metadata": {},
     "output_type": "display_data"
    }
   ],
   "source": [
    "profiles = [\n",
    "    \"Has dependents + Standard/Lower Income\",\n",
    "    \"Not defined\",\n",
    "    \"Has dependents + Higher Income\",\n",
    "    \"30 or older + No dependents\",\n",
    "    \"Under 30 + No dependents\"\n",
    "]\n",
    "values = [6607012, 6082107, 5620756, 4966944, 1138058]\n",
    "\n",
    "# Fix: Provide colors as a list to the color parameter\n",
    "plt.barh(profiles, values, color=['yellow', 'skyblue', 'red', 'orange', 'green'])\n",
    "plt.xlabel(\"Number of Customers - (in 10000s)\", fontsize=9)\n",
    "plt.title(\"Customer Profile Distribution\")\n",
    "plt.tight_layout()\n",
    "plt.show()"
   ]
  },
  {
   "cell_type": "code",
   "execution_count": 10,
   "id": "0a6dbb76-0bf2-4bfa-8dc2-716ebff9fe03",
   "metadata": {},
   "outputs": [
    {
     "data": {
      "text/plain": [
       "<Figure size 640x480 with 0 Axes>"
      ]
     },
     "metadata": {},
     "output_type": "display_data"
    }
   ],
   "source": [
    "# Saving image\n",
    "plt.savefig(os.path.join(path, '04 Analysis', 'Visualisations', 'customer_profile_distribution.png'))"
   ]
  },
  {
   "cell_type": "markdown",
   "id": "e52568a9-6baa-406c-9ec5-c912ef9f2d2c",
   "metadata": {},
   "source": [
    "7. Aggregate the max, mean, and min variables on a customer-profile level for usage frequency and expenditure."
   ]
  },
  {
   "cell_type": "code",
   "execution_count": 11,
   "id": "aa256477-e64e-44fa-8e43-13b254a6d4b6",
   "metadata": {},
   "outputs": [],
   "source": [
    "# Creating a dataframe to show active customers from each region\n",
    "region_segment_total_counts = active_customers.groupby(['profile_segment', 'Region']).size().reset_index(name='customer_count')"
   ]
  },
  {
   "cell_type": "markdown",
   "id": "b8282684-e760-4c0b-a092-5ece04e360ea",
   "metadata": {},
   "source": [
    "- I would like to use a stacked bar chart, so I need to pivot the data to have the region and the segment in the right places."
   ]
  },
  {
   "cell_type": "code",
   "execution_count": 12,
   "id": "43137f97-cc75-4416-92c2-bd072d5df523",
   "metadata": {
    "jupyter": {
     "source_hidden": true
    }
   },
   "outputs": [],
   "source": [
    "# Pivoting dataframe\n",
    "pivot_active_customers = region_segment_total_counts.pivot(index='Region', columns='profile_segment', values='customer_count')"
   ]
  },
  {
   "cell_type": "code",
   "execution_count": 13,
   "id": "e2dfa4f5-9cfe-4c6c-839d-c9ef4114b8c3",
   "metadata": {},
   "outputs": [
    {
     "data": {
      "image/png": "[encoded data removed]",
      "text/plain": [
       "<Figure size 1000x600 with 1 Axes>"
      ]
     },
     "metadata": {},
     "output_type": "display_data"
    }
   ],
   "source": [
    "import matplotlib.pyplot as plt1\n",
    "\n",
    "# Plotting the stacked bar chart\n",
    "pivot_active_customers.plot(kind='bar', stacked=True, figsize=(10, 6), colormap='tab10')\n",
    "\n",
    "# Add labels and title\n",
    "plt1.title(\"Active Customer Count by Profile Segment and Region\", fontsize=12)\n",
    "plt1.xlabel(\"Region\", fontsize=9)\n",
    "plt1.ylabel(\"Number of Active Customers\", fontsize=9)\n",
    "plt1.xticks(rotation=0)\n",
    "plt1.legend(title=\"Profile Segment\", loc='upper left')\n",
    "plt1.tight_layout()\n",
    "plt1.show()"
   ]
  },
  {
   "cell_type": "code",
   "execution_count": 14,
   "id": "90f471e4-87cf-4109-924f-6801b5fc0043",
   "metadata": {},
   "outputs": [
    {
     "data": {
      "text/plain": [
       "<Figure size 640x480 with 0 Axes>"
      ]
     },
     "metadata": {},
     "output_type": "display_data"
    }
   ],
   "source": [
    "# Saving image\n",
    "plt1.savefig(os.path.join(path, '04 Analysis', 'Visualisations', 'active_customer_count.png'))"
   ]
  },
  {
   "cell_type": "markdown",
   "id": "341e9e6a-9db2-432f-b8e8-c8a547826038",
   "metadata": {},
   "source": [
    "8.Compare your customer profiles with regions and departments. Can you identify a link between them? Customers may demonstrate different behaviors across regions, which could make this information important."
   ]
  },
  {
   "cell_type": "markdown",
   "id": "edab55b5-daf4-49c3-ba89-c1d28715cd4f",
   "metadata": {},
   "source": [
    "- The stacked bar chart shows that the MIDWEST has the most balanced distribution across the segments I have established.\n",
    "- The SOUTH has the largest number in 'Has dependents + Standard/Lower Income level'.\n",
    "- The WEST and NORTHWEST both have more prominent 'Under 30 + No dependents' and 'Undefined'\n",
    "- In terms of links, the SOUTH and MIDWEST appear to have the 'traditional' household set up with dependents on decent to good salaries.\n",
    "- The WEST and NORTHWEST seem to lean towards a younger or not defined profile, which could mean a different population make up in terms of age, stage of life, etc."
   ]
  },
  {
   "cell_type": "code",
   "execution_count": 15,
   "id": "65da8b68-4e8f-4e33-816b-577b436dec2c",
   "metadata": {},
   "outputs": [
    {
     "data": {
      "text/plain": [
       "21    Has dependents + Standard/Lower Income level\n",
       "22    Has dependents + Standard/Lower Income level\n",
       "23    Has dependents + Standard/Lower Income level\n",
       "24    Has dependents + Standard/Lower Income level\n",
       "25    Has dependents + Standard/Lower Income level\n",
       "Name: profile_segment, dtype: object"
      ]
     },
     "execution_count": 15,
     "metadata": {},
     "output_type": "execute_result"
    }
   ],
   "source": [
    "active_customers['profile_segment'].head(5)"
   ]
  },
  {
   "cell_type": "code",
   "execution_count": 16,
   "id": "e9961411-62e8-4e08-86ed-e74614518075",
   "metadata": {},
   "outputs": [],
   "source": [
    "# Exporting final dataframe\n",
    "active_customers.to_pickle(os.path.join(path, '02 Data', 'Prepared Data', 'df_active_customers.pkl'))"
   ]
  },
  {
   "cell_type": "code",
   "execution_count": null,
   "id": "2f3618ad-7e73-4c2a-89a3-d340395830fb",
   "metadata": {},
   "outputs": [],
   "source": []
  }
 ],
 "metadata": {
  "kernelspec": {
   "display_name": "Python [conda env:base] *",
   "language": "python",
   "name": "conda-base-py"
  },
  "language_info": {
   "codemirror_mode": {
    "name": "ipython",
    "version": 3
   },
   "file_extension": ".py",
   "mimetype": "text/x-python",
   "name": "python",
   "nbconvert_exporter": "python",
   "pygments_lexer": "ipython3",
   "version": "3.13.5"
  }
 },
 "nbformat": 4,
 "nbformat_minor": 5
}
