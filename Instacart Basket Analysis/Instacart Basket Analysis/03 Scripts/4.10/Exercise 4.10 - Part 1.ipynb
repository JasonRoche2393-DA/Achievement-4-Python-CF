{
 "cells": [
  {
   "cell_type": "markdown",
   "id": "451f5ad9-b8e7-455e-b5f2-d24357e6f07d",
   "metadata": {},
   "source": [
    "1. Import the data set you exported in Exercise 4.9 into a new Jupyter notebook. This should be the merged version of your data that contains the new customers column."
   ]
  },
  {
   "cell_type": "markdown",
   "id": "eba022d4-b899-4896-9408-185414c4d006",
   "metadata": {},
   "source": [
    "Import libraries:"
   ]
  },
  {
   "cell_type": "code",
   "execution_count": 1,
   "id": "edf84010-d3d6-484a-9099-8d205f07f754",
   "metadata": {},
   "outputs": [],
   "source": [
    "# import libraries\n",
    "import pandas as pd\n",
    "import numpy as np\n",
    "import os\n",
    "import matplotlib.pyplot as plt\n",
    "import seaborn as sns\n",
    "import scipy"
   ]
  },
  {
   "cell_type": "markdown",
   "id": "6828f752-3bd4-47ee-8bf5-74424e200f8e",
   "metadata": {},
   "source": [
    "Create data path:"
   ]
  },
  {
   "cell_type": "code",
   "execution_count": 2,
   "id": "54dde51d-2396-4fb7-80ac-54d9945fc735",
   "metadata": {},
   "outputs": [],
   "source": [
    "# Create data path\n",
    "path = r\"C:\\Users\\Jason\\Instacart Basket Analysis\""
   ]
  },
  {
   "cell_type": "code",
   "execution_count": 3,
   "id": "7f493a43-c1a5-4912-93c7-9090e53b826d",
   "metadata": {},
   "outputs": [],
   "source": [
    "# Importing new merged dataframe\n",
    "df_customer_ords_merged = pd.read_pickle(os.path.join(path, '02 Data', 'Prepared Data', 'orders_products_customers_merged.pkl'))"
   ]
  },
  {
   "cell_type": "code",
   "execution_count": 4,
   "id": "a4b124d8-530a-4713-bfcb-7d867420ab91",
   "metadata": {},
   "outputs": [
    {
     "data": {
      "text/plain": [
       "(32404859, 32)"
      ]
     },
     "execution_count": 4,
     "metadata": {},
     "output_type": "execute_result"
    }
   ],
   "source": [
    "df_customer_ords_merged.shape"
   ]
  },
  {
   "cell_type": "code",
   "execution_count": 5,
   "id": "65114b4f-03b5-4ce9-8250-756b95aee9b0",
   "metadata": {},
   "outputs": [
    {
     "data": {
      "text/html": [
       "<div>\n",
       "<style scoped>\n",
       "    .dataframe tbody tr th:only-of-type {\n",
       "        vertical-align: middle;\n",
       "    }\n",
       "\n",
       "    .dataframe tbody tr th {\n",
       "        vertical-align: top;\n",
       "    }\n",
       "\n",
       "    .dataframe thead th {\n",
       "        text-align: right;\n",
       "    }\n",
       "</style>\n",
       "<table border=\"1\" class=\"dataframe\">\n",
       "  <thead>\n",
       "    <tr style=\"text-align: right;\">\n",
       "      <th></th>\n",
       "      <th>order_id</th>\n",
       "      <th>user_id</th>\n",
       "      <th>order_number</th>\n",
       "      <th>orders_day_of_week</th>\n",
       "      <th>order_hour_of_day</th>\n",
       "      <th>days_since_prior_order</th>\n",
       "      <th>product_id</th>\n",
       "      <th>add_to_cart_order</th>\n",
       "      <th>reordered</th>\n",
       "      <th>product_name</th>\n",
       "      <th>...</th>\n",
       "      <th>Unnamed: 0</th>\n",
       "      <th>First Name</th>\n",
       "      <th>Surname</th>\n",
       "      <th>Gender</th>\n",
       "      <th>State</th>\n",
       "      <th>Age</th>\n",
       "      <th>Date Joined</th>\n",
       "      <th>Number of Dependents</th>\n",
       "      <th>Family Status</th>\n",
       "      <th>Income</th>\n",
       "    </tr>\n",
       "  </thead>\n",
       "  <tbody>\n",
       "    <tr>\n",
       "      <th>0</th>\n",
       "      <td>2539329</td>\n",
       "      <td>1</td>\n",
       "      <td>1</td>\n",
       "      <td>2</td>\n",
       "      <td>8</td>\n",
       "      <td>7.0</td>\n",
       "      <td>196</td>\n",
       "      <td>1</td>\n",
       "      <td>0</td>\n",
       "      <td>Soda</td>\n",
       "      <td>...</td>\n",
       "      <td>134862</td>\n",
       "      <td>Linda</td>\n",
       "      <td>Nguyen</td>\n",
       "      <td>Female</td>\n",
       "      <td>Alabama</td>\n",
       "      <td>31</td>\n",
       "      <td>2/17/2019</td>\n",
       "      <td>3</td>\n",
       "      <td>married</td>\n",
       "      <td>40423</td>\n",
       "    </tr>\n",
       "    <tr>\n",
       "      <th>1</th>\n",
       "      <td>2539329</td>\n",
       "      <td>1</td>\n",
       "      <td>1</td>\n",
       "      <td>2</td>\n",
       "      <td>8</td>\n",
       "      <td>7.0</td>\n",
       "      <td>14084</td>\n",
       "      <td>2</td>\n",
       "      <td>0</td>\n",
       "      <td>Organic Unsweetened Vanilla Almond Milk</td>\n",
       "      <td>...</td>\n",
       "      <td>134862</td>\n",
       "      <td>Linda</td>\n",
       "      <td>Nguyen</td>\n",
       "      <td>Female</td>\n",
       "      <td>Alabama</td>\n",
       "      <td>31</td>\n",
       "      <td>2/17/2019</td>\n",
       "      <td>3</td>\n",
       "      <td>married</td>\n",
       "      <td>40423</td>\n",
       "    </tr>\n",
       "    <tr>\n",
       "      <th>2</th>\n",
       "      <td>2539329</td>\n",
       "      <td>1</td>\n",
       "      <td>1</td>\n",
       "      <td>2</td>\n",
       "      <td>8</td>\n",
       "      <td>7.0</td>\n",
       "      <td>12427</td>\n",
       "      <td>3</td>\n",
       "      <td>0</td>\n",
       "      <td>Original Beef Jerky</td>\n",
       "      <td>...</td>\n",
       "      <td>134862</td>\n",
       "      <td>Linda</td>\n",
       "      <td>Nguyen</td>\n",
       "      <td>Female</td>\n",
       "      <td>Alabama</td>\n",
       "      <td>31</td>\n",
       "      <td>2/17/2019</td>\n",
       "      <td>3</td>\n",
       "      <td>married</td>\n",
       "      <td>40423</td>\n",
       "    </tr>\n",
       "    <tr>\n",
       "      <th>3</th>\n",
       "      <td>2539329</td>\n",
       "      <td>1</td>\n",
       "      <td>1</td>\n",
       "      <td>2</td>\n",
       "      <td>8</td>\n",
       "      <td>7.0</td>\n",
       "      <td>26088</td>\n",
       "      <td>4</td>\n",
       "      <td>0</td>\n",
       "      <td>Aged White Cheddar Popcorn</td>\n",
       "      <td>...</td>\n",
       "      <td>134862</td>\n",
       "      <td>Linda</td>\n",
       "      <td>Nguyen</td>\n",
       "      <td>Female</td>\n",
       "      <td>Alabama</td>\n",
       "      <td>31</td>\n",
       "      <td>2/17/2019</td>\n",
       "      <td>3</td>\n",
       "      <td>married</td>\n",
       "      <td>40423</td>\n",
       "    </tr>\n",
       "    <tr>\n",
       "      <th>4</th>\n",
       "      <td>2539329</td>\n",
       "      <td>1</td>\n",
       "      <td>1</td>\n",
       "      <td>2</td>\n",
       "      <td>8</td>\n",
       "      <td>7.0</td>\n",
       "      <td>26405</td>\n",
       "      <td>5</td>\n",
       "      <td>0</td>\n",
       "      <td>XL Pick-A-Size Paper Towel Rolls</td>\n",
       "      <td>...</td>\n",
       "      <td>134862</td>\n",
       "      <td>Linda</td>\n",
       "      <td>Nguyen</td>\n",
       "      <td>Female</td>\n",
       "      <td>Alabama</td>\n",
       "      <td>31</td>\n",
       "      <td>2/17/2019</td>\n",
       "      <td>3</td>\n",
       "      <td>married</td>\n",
       "      <td>40423</td>\n",
       "    </tr>\n",
       "  </tbody>\n",
       "</table>\n",
       "<p>5 rows × 32 columns</p>\n",
       "</div>"
      ],
      "text/plain": [
       "   order_id  user_id  order_number  orders_day_of_week  order_hour_of_day  \\\n",
       "0   2539329        1             1                   2                  8   \n",
       "1   2539329        1             1                   2                  8   \n",
       "2   2539329        1             1                   2                  8   \n",
       "3   2539329        1             1                   2                  8   \n",
       "4   2539329        1             1                   2                  8   \n",
       "\n",
       "   days_since_prior_order  product_id  add_to_cart_order  reordered  \\\n",
       "0                     7.0         196                  1          0   \n",
       "1                     7.0       14084                  2          0   \n",
       "2                     7.0       12427                  3          0   \n",
       "3                     7.0       26088                  4          0   \n",
       "4                     7.0       26405                  5          0   \n",
       "\n",
       "                              product_name  ...  Unnamed: 0  First Name  \\\n",
       "0                                     Soda  ...      134862       Linda   \n",
       "1  Organic Unsweetened Vanilla Almond Milk  ...      134862       Linda   \n",
       "2                      Original Beef Jerky  ...      134862       Linda   \n",
       "3               Aged White Cheddar Popcorn  ...      134862       Linda   \n",
       "4         XL Pick-A-Size Paper Towel Rolls  ...      134862       Linda   \n",
       "\n",
       "   Surname  Gender    State Age  Date Joined Number of Dependents  \\\n",
       "0   Nguyen  Female  Alabama  31    2/17/2019                    3   \n",
       "1   Nguyen  Female  Alabama  31    2/17/2019                    3   \n",
       "2   Nguyen  Female  Alabama  31    2/17/2019                    3   \n",
       "3   Nguyen  Female  Alabama  31    2/17/2019                    3   \n",
       "4   Nguyen  Female  Alabama  31    2/17/2019                    3   \n",
       "\n",
       "   Family Status Income  \n",
       "0        married  40423  \n",
       "1        married  40423  \n",
       "2        married  40423  \n",
       "3        married  40423  \n",
       "4        married  40423  \n",
       "\n",
       "[5 rows x 32 columns]"
      ]
     },
     "execution_count": 5,
     "metadata": {},
     "output_type": "execute_result"
    }
   ],
   "source": [
    "df_customer_ords_merged.head() "
   ]
  },
  {
   "cell_type": "markdown",
   "id": "295badd0-be9e-4da3-ba9a-0b30f6957cd5",
   "metadata": {},
   "source": [
    "2. Consider any security implications that might exist for this new data. You’ll need to address any PII data in the data before continuing your analysis."
   ]
  },
  {
   "cell_type": "markdown",
   "id": "0e04d1e6-9ec0-4b42-9f2d-65fc0a7429ae",
   "metadata": {},
   "source": [
    "- For this step, I needed to review any data that could be used to identify a person from the dataset. To do this, I focused on the columns for the data to determine if any PII data was present."
   ]
  },
  {
   "cell_type": "code",
   "execution_count": 6,
   "id": "ddacd2c3-c566-491d-af72-1ce57a14a756",
   "metadata": {},
   "outputs": [
    {
     "data": {
      "text/plain": [
       "Index(['order_id', 'user_id', 'order_number', 'orders_day_of_week',\n",
       "       'order_hour_of_day', 'days_since_prior_order', 'product_id',\n",
       "       'add_to_cart_order', 'reordered', 'product_name', 'aisle_id',\n",
       "       'department_id', 'prices', 'match', 'busiest_days',\n",
       "       'busiest_period_of_day', 'max_order', 'loyalty_flag',\n",
       "       'avg_product_price', 'spending_flag', 'median_days_between_orders',\n",
       "       'order_frequency_flag', 'Unnamed: 0', 'First Name', 'Surname', 'Gender',\n",
       "       'State', 'Age', 'Date Joined', 'Number of Dependents', 'Family Status',\n",
       "       'Income'],\n",
       "      dtype='object')"
      ]
     },
     "execution_count": 6,
     "metadata": {},
     "output_type": "execute_result"
    }
   ],
   "source": [
    "# Reviewing the df for PII security implications\n",
    "df_customer_ords_merged.columns"
   ]
  },
  {
   "cell_type": "markdown",
   "id": "24b38aba-4701-44fa-8c7f-ad13bb6add22",
   "metadata": {},
   "source": [
    "- In line with PII implications, I will remove; 'First Name', 'Surname'. The rest of the dataset contains general information about customers (demographics, gender, age, state) but I do not believe this is sensistive information that poses a risk."
   ]
  },
  {
   "cell_type": "code",
   "execution_count": 7,
   "id": "9d1e3adc-8453-450f-b100-bb3745906f25",
   "metadata": {},
   "outputs": [],
   "source": [
    "# Hiding info that could be a security risk\n",
    "df_customer_ords_merged_risk_free = df_customer_ords_merged.drop(columns=['First Name', 'Surname'])"
   ]
  },
  {
   "cell_type": "code",
   "execution_count": 8,
   "id": "5fe30403-0fb8-4684-b8e9-44bb7d792e28",
   "metadata": {
    "scrolled": true
   },
   "outputs": [
    {
     "data": {
      "text/html": [
       "<div>\n",
       "<style scoped>\n",
       "    .dataframe tbody tr th:only-of-type {\n",
       "        vertical-align: middle;\n",
       "    }\n",
       "\n",
       "    .dataframe tbody tr th {\n",
       "        vertical-align: top;\n",
       "    }\n",
       "\n",
       "    .dataframe thead th {\n",
       "        text-align: right;\n",
       "    }\n",
       "</style>\n",
       "<table border=\"1\" class=\"dataframe\">\n",
       "  <thead>\n",
       "    <tr style=\"text-align: right;\">\n",
       "      <th></th>\n",
       "      <th>order_id</th>\n",
       "      <th>user_id</th>\n",
       "      <th>order_number</th>\n",
       "      <th>orders_day_of_week</th>\n",
       "      <th>order_hour_of_day</th>\n",
       "      <th>days_since_prior_order</th>\n",
       "      <th>product_id</th>\n",
       "      <th>add_to_cart_order</th>\n",
       "      <th>reordered</th>\n",
       "      <th>product_name</th>\n",
       "      <th>...</th>\n",
       "      <th>median_days_between_orders</th>\n",
       "      <th>order_frequency_flag</th>\n",
       "      <th>Unnamed: 0</th>\n",
       "      <th>Gender</th>\n",
       "      <th>State</th>\n",
       "      <th>Age</th>\n",
       "      <th>Date Joined</th>\n",
       "      <th>Number of Dependents</th>\n",
       "      <th>Family Status</th>\n",
       "      <th>Income</th>\n",
       "    </tr>\n",
       "  </thead>\n",
       "  <tbody>\n",
       "    <tr>\n",
       "      <th>0</th>\n",
       "      <td>2539329</td>\n",
       "      <td>1</td>\n",
       "      <td>1</td>\n",
       "      <td>2</td>\n",
       "      <td>8</td>\n",
       "      <td>7.0</td>\n",
       "      <td>196</td>\n",
       "      <td>1</td>\n",
       "      <td>0</td>\n",
       "      <td>Soda</td>\n",
       "      <td>...</td>\n",
       "      <td>20.0</td>\n",
       "      <td>Regular customer</td>\n",
       "      <td>134862</td>\n",
       "      <td>Female</td>\n",
       "      <td>Alabama</td>\n",
       "      <td>31</td>\n",
       "      <td>2/17/2019</td>\n",
       "      <td>3</td>\n",
       "      <td>married</td>\n",
       "      <td>40423</td>\n",
       "    </tr>\n",
       "    <tr>\n",
       "      <th>1</th>\n",
       "      <td>2539329</td>\n",
       "      <td>1</td>\n",
       "      <td>1</td>\n",
       "      <td>2</td>\n",
       "      <td>8</td>\n",
       "      <td>7.0</td>\n",
       "      <td>14084</td>\n",
       "      <td>2</td>\n",
       "      <td>0</td>\n",
       "      <td>Organic Unsweetened Vanilla Almond Milk</td>\n",
       "      <td>...</td>\n",
       "      <td>20.0</td>\n",
       "      <td>Regular customer</td>\n",
       "      <td>134862</td>\n",
       "      <td>Female</td>\n",
       "      <td>Alabama</td>\n",
       "      <td>31</td>\n",
       "      <td>2/17/2019</td>\n",
       "      <td>3</td>\n",
       "      <td>married</td>\n",
       "      <td>40423</td>\n",
       "    </tr>\n",
       "    <tr>\n",
       "      <th>2</th>\n",
       "      <td>2539329</td>\n",
       "      <td>1</td>\n",
       "      <td>1</td>\n",
       "      <td>2</td>\n",
       "      <td>8</td>\n",
       "      <td>7.0</td>\n",
       "      <td>12427</td>\n",
       "      <td>3</td>\n",
       "      <td>0</td>\n",
       "      <td>Original Beef Jerky</td>\n",
       "      <td>...</td>\n",
       "      <td>20.0</td>\n",
       "      <td>Regular customer</td>\n",
       "      <td>134862</td>\n",
       "      <td>Female</td>\n",
       "      <td>Alabama</td>\n",
       "      <td>31</td>\n",
       "      <td>2/17/2019</td>\n",
       "      <td>3</td>\n",
       "      <td>married</td>\n",
       "      <td>40423</td>\n",
       "    </tr>\n",
       "    <tr>\n",
       "      <th>3</th>\n",
       "      <td>2539329</td>\n",
       "      <td>1</td>\n",
       "      <td>1</td>\n",
       "      <td>2</td>\n",
       "      <td>8</td>\n",
       "      <td>7.0</td>\n",
       "      <td>26088</td>\n",
       "      <td>4</td>\n",
       "      <td>0</td>\n",
       "      <td>Aged White Cheddar Popcorn</td>\n",
       "      <td>...</td>\n",
       "      <td>20.0</td>\n",
       "      <td>Regular customer</td>\n",
       "      <td>134862</td>\n",
       "      <td>Female</td>\n",
       "      <td>Alabama</td>\n",
       "      <td>31</td>\n",
       "      <td>2/17/2019</td>\n",
       "      <td>3</td>\n",
       "      <td>married</td>\n",
       "      <td>40423</td>\n",
       "    </tr>\n",
       "    <tr>\n",
       "      <th>4</th>\n",
       "      <td>2539329</td>\n",
       "      <td>1</td>\n",
       "      <td>1</td>\n",
       "      <td>2</td>\n",
       "      <td>8</td>\n",
       "      <td>7.0</td>\n",
       "      <td>26405</td>\n",
       "      <td>5</td>\n",
       "      <td>0</td>\n",
       "      <td>XL Pick-A-Size Paper Towel Rolls</td>\n",
       "      <td>...</td>\n",
       "      <td>20.0</td>\n",
       "      <td>Regular customer</td>\n",
       "      <td>134862</td>\n",
       "      <td>Female</td>\n",
       "      <td>Alabama</td>\n",
       "      <td>31</td>\n",
       "      <td>2/17/2019</td>\n",
       "      <td>3</td>\n",
       "      <td>married</td>\n",
       "      <td>40423</td>\n",
       "    </tr>\n",
       "  </tbody>\n",
       "</table>\n",
       "<p>5 rows × 30 columns</p>\n",
       "</div>"
      ],
      "text/plain": [
       "   order_id  user_id  order_number  orders_day_of_week  order_hour_of_day  \\\n",
       "0   2539329        1             1                   2                  8   \n",
       "1   2539329        1             1                   2                  8   \n",
       "2   2539329        1             1                   2                  8   \n",
       "3   2539329        1             1                   2                  8   \n",
       "4   2539329        1             1                   2                  8   \n",
       "\n",
       "   days_since_prior_order  product_id  add_to_cart_order  reordered  \\\n",
       "0                     7.0         196                  1          0   \n",
       "1                     7.0       14084                  2          0   \n",
       "2                     7.0       12427                  3          0   \n",
       "3                     7.0       26088                  4          0   \n",
       "4                     7.0       26405                  5          0   \n",
       "\n",
       "                              product_name  ...  median_days_between_orders  \\\n",
       "0                                     Soda  ...                        20.0   \n",
       "1  Organic Unsweetened Vanilla Almond Milk  ...                        20.0   \n",
       "2                      Original Beef Jerky  ...                        20.0   \n",
       "3               Aged White Cheddar Popcorn  ...                        20.0   \n",
       "4         XL Pick-A-Size Paper Towel Rolls  ...                        20.0   \n",
       "\n",
       "   order_frequency_flag  Unnamed: 0  Gender    State Age  Date Joined  \\\n",
       "0      Regular customer      134862  Female  Alabama  31    2/17/2019   \n",
       "1      Regular customer      134862  Female  Alabama  31    2/17/2019   \n",
       "2      Regular customer      134862  Female  Alabama  31    2/17/2019   \n",
       "3      Regular customer      134862  Female  Alabama  31    2/17/2019   \n",
       "4      Regular customer      134862  Female  Alabama  31    2/17/2019   \n",
       "\n",
       "  Number of Dependents  Family Status Income  \n",
       "0                    3        married  40423  \n",
       "1                    3        married  40423  \n",
       "2                    3        married  40423  \n",
       "3                    3        married  40423  \n",
       "4                    3        married  40423  \n",
       "\n",
       "[5 rows x 30 columns]"
      ]
     },
     "execution_count": 8,
     "metadata": {},
     "output_type": "execute_result"
    }
   ],
   "source": [
    "df_customer_ords_merged_risk_free.head()"
   ]
  },
  {
   "cell_type": "markdown",
   "id": "c4a6da07-872d-4070-9498-343bd45793d9",
   "metadata": {},
   "source": [
    "3. The Instacart officers are interested in comparing customer behavior in different geographic areas. Create a regional segmentation of the data. You’ll need to create a “Region” column based on the “State” column from your customers data set.\n",
    "Use the region information in this Wikipedia article to create your column (you only need to create regions, not divisions). - https://simple.wikipedia.org/wiki/List_of_regions_of_the_United_States"
   ]
  },
  {
   "cell_type": "code",
   "execution_count": 9,
   "id": "4d61f7d0-0cdc-4dd2-8409-2afecabc81e2",
   "metadata": {},
   "outputs": [],
   "source": [
    "# Creating 'Region' column based on Wikipedia article\n",
    "regions_USA = {\n",
    "    # Northeast\n",
    "    'Maine' : 'Northeast', 'New Hampshire' : 'Northeast', 'Vermont' : 'Northeast', 'Massachusetts' : 'Northeast', 'Rhode Island' : 'Northeast', 'Connecticut' : 'Northeast',\n",
    "    'New York' : 'Northeast', 'Pennsylvania' : 'Northeast', 'New Jersey' : 'Northeast',\n",
    "    # Midwest\n",
    "    'Wisconsin' : 'Midwest', 'Michigan' : 'Midwest', 'Illinois' : 'Midwest', 'Indiana' : 'Midwest', 'Ohio' : 'Midwest', 'North Dakota' : 'Midwest', 'South Dakota' : 'Midwest', 'Nebraska' : 'Midwest',\n",
    "    'Kansas' : 'Midwest', 'Minnesota' : 'Midwest', 'Iowa' : 'Midwest', 'Missouri' : 'Midwest',\n",
    "    # South\n",
    "    'Delaware' : 'South', 'Maryland' : 'South', 'District of Columbia' : 'South', 'Virginia' : 'South', 'West Virginia' : 'South', 'North Carolina' : 'South', 'South Carolina' : 'South', 'Georgia' : 'South',\n",
    "    'Florida' : 'South', 'Kentucky' : 'South', 'Tennessee' : 'South', 'Mississippi' : 'South', 'Alabama' : 'South', 'Oklahoma' : 'South', 'Texas' : 'South', 'Arkansas' : 'South', 'Louisiana' : 'South',\n",
    "    # West\n",
    "    'Idaho' : 'West', 'Montana' : 'West', 'Wyoming' : 'West', 'Nevada' : 'West', 'Utah' : 'West', 'Colorado' : 'West', 'Arizona' : 'West', 'New Mexico' : 'West', 'Alaska' : 'West', 'Washington' : 'West', 'Oregon' : 'West',\n",
    "    'California' : 'West', 'Hawaii' : 'West'\n",
    "}"
   ]
  },
  {
   "cell_type": "code",
   "execution_count": 10,
   "id": "9adb5810-4db8-4076-9781-b0032ee44f42",
   "metadata": {},
   "outputs": [],
   "source": [
    "df = df_customer_ords_merged_risk_free"
   ]
  },
  {
   "cell_type": "code",
   "execution_count": 11,
   "id": "9da03b15-ac7f-4127-8f32-6108035e83fd",
   "metadata": {},
   "outputs": [],
   "source": [
    "# Applying region changes\n",
    "df['Region'] = df['State'].map(regions_USA)"
   ]
  },
  {
   "cell_type": "code",
   "execution_count": 12,
   "id": "4e1baf9f-30b4-42d5-bcab-fc4e45f718bc",
   "metadata": {
    "jupyter": {
     "source_hidden": true
    }
   },
   "outputs": [
    {
     "data": {
      "text/html": [
       "<div>\n",
       "<style scoped>\n",
       "    .dataframe tbody tr th:only-of-type {\n",
       "        vertical-align: middle;\n",
       "    }\n",
       "\n",
       "    .dataframe tbody tr th {\n",
       "        vertical-align: top;\n",
       "    }\n",
       "\n",
       "    .dataframe thead th {\n",
       "        text-align: right;\n",
       "    }\n",
       "</style>\n",
       "<table border=\"1\" class=\"dataframe\">\n",
       "  <thead>\n",
       "    <tr style=\"text-align: right;\">\n",
       "      <th></th>\n",
       "      <th>State</th>\n",
       "      <th>Region</th>\n",
       "    </tr>\n",
       "  </thead>\n",
       "  <tbody>\n",
       "    <tr>\n",
       "      <th>0</th>\n",
       "      <td>Alabama</td>\n",
       "      <td>South</td>\n",
       "    </tr>\n",
       "    <tr>\n",
       "      <th>59</th>\n",
       "      <td>Alaska</td>\n",
       "      <td>West</td>\n",
       "    </tr>\n",
       "    <tr>\n",
       "      <th>254</th>\n",
       "      <td>Arizona</td>\n",
       "      <td>West</td>\n",
       "    </tr>\n",
       "    <tr>\n",
       "      <th>342</th>\n",
       "      <td>Arkansas</td>\n",
       "      <td>South</td>\n",
       "    </tr>\n",
       "    <tr>\n",
       "      <th>360</th>\n",
       "      <td>California</td>\n",
       "      <td>West</td>\n",
       "    </tr>\n",
       "    <tr>\n",
       "      <th>397</th>\n",
       "      <td>Colorado</td>\n",
       "      <td>West</td>\n",
       "    </tr>\n",
       "    <tr>\n",
       "      <th>411</th>\n",
       "      <td>Connecticut</td>\n",
       "      <td>Northeast</td>\n",
       "    </tr>\n",
       "    <tr>\n",
       "      <th>617</th>\n",
       "      <td>Delaware</td>\n",
       "      <td>South</td>\n",
       "    </tr>\n",
       "    <tr>\n",
       "      <th>666</th>\n",
       "      <td>District of Columbia</td>\n",
       "      <td>South</td>\n",
       "    </tr>\n",
       "    <tr>\n",
       "      <th>742</th>\n",
       "      <td>Florida</td>\n",
       "      <td>South</td>\n",
       "    </tr>\n",
       "  </tbody>\n",
       "</table>\n",
       "</div>"
      ],
      "text/plain": [
       "                    State     Region\n",
       "0                 Alabama      South\n",
       "59                 Alaska       West\n",
       "254               Arizona       West\n",
       "342              Arkansas      South\n",
       "360            California       West\n",
       "397              Colorado       West\n",
       "411           Connecticut  Northeast\n",
       "617              Delaware      South\n",
       "666  District of Columbia      South\n",
       "742               Florida      South"
      ]
     },
     "execution_count": 12,
     "metadata": {},
     "output_type": "execute_result"
    }
   ],
   "source": [
    "# Reviewing output\n",
    "df[['State', 'Region']].drop_duplicates().head(10)"
   ]
  },
  {
   "cell_type": "markdown",
   "id": "657e191d-1f28-4f0b-b20a-e6905b023a0e",
   "metadata": {},
   "source": [
    "3. Determine whether there’s a difference in spending habits between the different U.S. regions."
   ]
  },
  {
   "cell_type": "markdown",
   "id": "9fb66530-74f1-4847-b76e-cd4acdb6348b",
   "metadata": {},
   "source": [
    "- For this question, I decided to look at the total value counts per region and the 'order_frequency_flag'.\n",
    "- My logic was;\n",
    "  1. To get an understanding of the total value per regions.\n",
    "  2. To figure out which region had the most frequent customers."
   ]
  },
  {
   "cell_type": "code",
   "execution_count": 13,
   "id": "93d4db3d-3e2d-44a8-a51d-fa111cf2a7cc",
   "metadata": {
    "scrolled": true
   },
   "outputs": [
    {
     "data": {
      "text/plain": [
       "Region\n",
       "South        10791885\n",
       "West          8292913\n",
       "Midwest       7597325\n",
       "Northeast     5722736\n",
       "Name: count, dtype: int64"
      ]
     },
     "execution_count": 13,
     "metadata": {},
     "output_type": "execute_result"
    }
   ],
   "source": [
    "# Exploring counts by region\n",
    "df['Region'].value_counts()"
   ]
  },
  {
   "cell_type": "markdown",
   "id": "6c72e48c-5fd2-493f-9824-b35134d2444d",
   "metadata": {},
   "source": [
    "- We can that the South region of the USA has the most value counts regarding spending.\n",
    "- The Northeast region of the USA has the lowest total customer count."
   ]
  },
  {
   "cell_type": "code",
   "execution_count": 14,
   "id": "f7dc0dc5-ab03-4c3d-ad8f-74dff0cae36d",
   "metadata": {},
   "outputs": [],
   "source": [
    "# Most frequent customers by region\n",
    "frequent_customers_by_region = df.groupby(['Region', 'order_frequency_flag']).size()"
   ]
  },
  {
   "cell_type": "code",
   "execution_count": 15,
   "id": "37e218f9-a657-4c23-b2f0-6cd351f7b402",
   "metadata": {},
   "outputs": [
    {
     "data": {
      "text/plain": [
       "Region     order_frequency_flag \n",
       "Midwest    Frequent customer        5304364\n",
       "           Non-frequent customer     640082\n",
       "           Regular customer         1652879\n",
       "Northeast  Frequent customer        4022241\n",
       "           Non-frequent customer     469934\n",
       "           Regular customer         1230561\n",
       "South      Frequent customer        7601261\n",
       "           Non-frequent customer     897977\n",
       "           Regular customer         2292647\n",
       "West       Frequent customer        5862657\n",
       "           Non-frequent customer     678735\n",
       "           Regular customer         1751521\n",
       "dtype: int64"
      ]
     },
     "metadata": {},
     "output_type": "display_data"
    }
   ],
   "source": [
    "# Most frequent customers by region\n",
    "display(frequent_customers_by_region)"
   ]
  },
  {
   "cell_type": "markdown",
   "id": "2785a40f-4f72-415a-a6e2-4a78b616968d",
   "metadata": {},
   "source": [
    "- We see that the South has the highest numbers of frequent customers also (7601261)\n",
    "- Interestingly, frequent customers are the majority in all regions."
   ]
  },
  {
   "cell_type": "code",
   "execution_count": 16,
   "id": "72261491-6e99-4a81-8437-1573910a22a5",
   "metadata": {},
   "outputs": [
    {
     "data": {
      "image/png": "[encoded data removed]",
      "text/plain": [
       "<Figure size 800x600 with 1 Axes>"
      ]
     },
     "metadata": {},
     "output_type": "display_data"
    }
   ],
   "source": [
    "# Creating visualisations for results - Total Counts per Region\n",
    "data = {\n",
    "    'Region': ['South', 'West', 'Midwest', 'Northeast'],\n",
    "    'Customer_Count': [10791885, 8292913, 7597325, 5722736]\n",
    "}\n",
    "\n",
    "df = df = pd.DataFrame(data)\n",
    "\n",
    "import matplotlib.pyplot as plt3\n",
    "\n",
    "# Plot\n",
    "df.plot(kind='bar', x='Region', y='Customer_Count', legend=False, color='skyblue', figsize=(8, 6))\n",
    "plt3.title('Total Customer Counts by Region')\n",
    "plt3.ylabel('Customer Count')\n",
    "plt3.xticks(rotation=0)\n",
    "plt3.tight_layout()\n",
    "plt3.show()"
   ]
  },
  {
   "cell_type": "code",
   "execution_count": 17,
   "id": "895e4704-bce0-4009-93d2-39b33ff3e423",
   "metadata": {},
   "outputs": [
    {
     "data": {
      "text/plain": [
       "<Figure size 640x480 with 0 Axes>"
      ]
     },
     "metadata": {},
     "output_type": "display_data"
    }
   ],
   "source": [
    "# Saving image\n",
    "plt3.savefig(os.path.join(path, '04 Analysis', 'Visualisations', 'total_customers_by_region.png'))"
   ]
  },
  {
   "cell_type": "code",
   "execution_count": 18,
   "id": "bf457219-39f8-4b50-90be-bd308f114558",
   "metadata": {},
   "outputs": [
    {
     "data": {
      "image/png": "[encoded data removed]",
      "text/plain": [
       "<Figure size 800x600 with 1 Axes>"
      ]
     },
     "metadata": {},
     "output_type": "display_data"
    }
   ],
   "source": [
    "# Creating visualisations for results - Frequent Customers\n",
    "data = {\n",
    "    'Region': ['Midwest', 'Northeast', 'South', 'West'],\n",
    "    'Frequent': [5304364, 4022241, 7601261, 5862657],\n",
    "    'Regular': [1652879, 1230561, 2292647, 1751521],\n",
    "    'Non-Frequent': [640082, 469934, 897977, 678735]\n",
    "}\n",
    "\n",
    "df = pd.DataFrame(data)\n",
    "df.set_index('Region', inplace=True)\n",
    "\n",
    "import matplotlib.pyplot as plt4\n",
    "\n",
    "# Plot\n",
    "df.plot(kind='bar', stacked=True, figsize=(8, 6))\n",
    "plt4.title('Customer Order Frequency by Region')\n",
    "plt4.ylabel('Number of Customers')\n",
    "plt4.tight_layout()\n",
    "plt4.show()"
   ]
  },
  {
   "cell_type": "code",
   "execution_count": 19,
   "id": "cea1c79d-9b01-462b-8fd0-f6f00b777a0d",
   "metadata": {},
   "outputs": [
    {
     "data": {
      "text/plain": [
       "<Figure size 640x480 with 0 Axes>"
      ]
     },
     "metadata": {},
     "output_type": "display_data"
    }
   ],
   "source": [
    "# Saving image\n",
    "plt4.savefig(os.path.join(path, '04 Analysis', 'Visualisations', 'customer_frequency_by_region.png'))"
   ]
  },
  {
   "cell_type": "code",
   "execution_count": 20,
   "id": "a3132f00-de88-445a-8c31-757439bb012d",
   "metadata": {},
   "outputs": [],
   "source": [
    "# Exporting PII checked df for future use\n",
    "df_customer_ords_merged_risk_free.to_pickle(os.path.join(path, '02 Data', 'Prepared Data', 'df_customer_ords_merged_risk_free.pkl'))"
   ]
  },
  {
   "cell_type": "code",
   "execution_count": null,
   "id": "b3bf447e-3304-4999-8067-94d8c5a83847",
   "metadata": {},
   "outputs": [],
   "source": []
  }
 ],
 "metadata": {
  "kernelspec": {
   "display_name": "Python [conda env:base] *",
   "language": "python",
   "name": "conda-base-py"
  },
  "language_info": {
   "codemirror_mode": {
    "name": "ipython",
    "version": 3
   },
   "file_extension": ".py",
   "mimetype": "text/x-python",
   "name": "python",
   "nbconvert_exporter": "python",
   "pygments_lexer": "ipython3",
   "version": "3.13.5"
  }
 },
 "nbformat": 4,
 "nbformat_minor": 5
}
