{
 "cells": [
  {
   "cell_type": "markdown",
   "id": "a915f344-5ae5-4e41-8c30-e7b25ce4569e",
   "metadata": {},
   "source": [
    "#01. Importing libraries"
   ]
  },
  {
   "cell_type": "code",
   "execution_count": 2,
   "id": "ddac43c1-a319-4c34-b288-dd447880cb5e",
   "metadata": {},
   "outputs": [],
   "source": [
    "# Importing libraries\n",
    "import pandas as pd\n",
    "import numpy as np\n",
    "import os"
   ]
  },
  {
   "cell_type": "markdown",
   "id": "236213cd-b710-466d-9ea2-e15c10ddc070",
   "metadata": {},
   "source": [
    "#02. Data types"
   ]
  },
  {
   "cell_type": "markdown",
   "id": "e993a171-8900-49d8-a955-66ec134b90dd",
   "metadata": {},
   "source": [
    "# Code 3 different ways of reaching a result of 100"
   ]
  },
  {
   "cell_type": "code",
   "execution_count": 3,
   "id": "c2d4ccfc-83e7-4fce-88f6-f1a7adae324d",
   "metadata": {},
   "outputs": [],
   "source": [
    "a = 50"
   ]
  },
  {
   "cell_type": "code",
   "execution_count": 4,
   "id": "a6d5482b-62b6-4c30-8bff-243351e86422",
   "metadata": {},
   "outputs": [],
   "source": [
    "b = 50"
   ]
  },
  {
   "cell_type": "code",
   "execution_count": 6,
   "id": "ebb0d416-647a-4b12-8f7a-ab949834bb41",
   "metadata": {},
   "outputs": [
    {
     "data": {
      "text/plain": [
       "100"
      ]
     },
     "execution_count": 6,
     "metadata": {},
     "output_type": "execute_result"
    }
   ],
   "source": [
    "a + b"
   ]
  },
  {
   "cell_type": "code",
   "execution_count": 7,
   "id": "0cbcfdf2-adc4-4355-8d7b-55948ff4c3cd",
   "metadata": {},
   "outputs": [],
   "source": [
    "c = 10"
   ]
  },
  {
   "cell_type": "code",
   "execution_count": 8,
   "id": "80bab625-c289-46a4-9da7-48d1a59f1387",
   "metadata": {},
   "outputs": [],
   "source": [
    "d = 10"
   ]
  },
  {
   "cell_type": "code",
   "execution_count": 9,
   "id": "d730c2d1-430a-4564-b95f-67b9ba381d5e",
   "metadata": {},
   "outputs": [
    {
     "data": {
      "text/plain": [
       "100"
      ]
     },
     "execution_count": 9,
     "metadata": {},
     "output_type": "execute_result"
    }
   ],
   "source": [
    "c * d"
   ]
  },
  {
   "cell_type": "code",
   "execution_count": 10,
   "id": "adbaf1b7-6e9f-4aed-bcbe-900f62b66a01",
   "metadata": {},
   "outputs": [],
   "source": [
    "e = 150"
   ]
  },
  {
   "cell_type": "code",
   "execution_count": 11,
   "id": "b2c6eae9-2dc4-4551-a9e9-08a4b5ce3691",
   "metadata": {},
   "outputs": [],
   "source": [
    "f = 50"
   ]
  },
  {
   "cell_type": "code",
   "execution_count": 12,
   "id": "75c6cf73-f562-499f-990e-83946d2c6b12",
   "metadata": {},
   "outputs": [
    {
     "data": {
      "text/plain": [
       "100"
      ]
     },
     "execution_count": 12,
     "metadata": {},
     "output_type": "execute_result"
    }
   ],
   "source": [
    "e - f"
   ]
  },
  {
   "cell_type": "markdown",
   "id": "9ce7ca1a-36c0-4f87-bb3e-0c9670898274",
   "metadata": {},
   "source": [
    "# Code 2 floating-point variables and divide them by each other"
   ]
  },
  {
   "cell_type": "code",
   "execution_count": 13,
   "id": "00be887f-8349-4cdc-9a6d-00df9993d3c4",
   "metadata": {},
   "outputs": [],
   "source": [
    "g = 1.5"
   ]
  },
  {
   "cell_type": "code",
   "execution_count": 14,
   "id": "f6fd419b-d88c-49ae-8408-5db43b3330c1",
   "metadata": {},
   "outputs": [],
   "source": [
    "h = 4.5"
   ]
  },
  {
   "cell_type": "code",
   "execution_count": 15,
   "id": "3643a8e3-8e46-48ef-a994-475865031ed8",
   "metadata": {},
   "outputs": [
    {
     "data": {
      "text/plain": [
       "0.3333333333333333"
      ]
     },
     "execution_count": 15,
     "metadata": {},
     "output_type": "execute_result"
    }
   ],
   "source": [
    "g / h"
   ]
  },
  {
   "cell_type": "code",
   "execution_count": 16,
   "id": "52e14ef3-1b58-401a-9cae-d3b3d8bd98b6",
   "metadata": {},
   "outputs": [
    {
     "name": "stdout",
     "output_type": "stream",
     "text": [
      "0.3333333333333333\n"
     ]
    }
   ],
   "source": [
    "print(g / h)"
   ]
  },
  {
   "cell_type": "code",
   "execution_count": 17,
   "id": "c5819313-186c-42e8-a2b7-afd990a4b196",
   "metadata": {},
   "outputs": [
    {
     "data": {
      "text/plain": [
       "float"
      ]
     },
     "execution_count": 17,
     "metadata": {},
     "output_type": "execute_result"
    }
   ],
   "source": [
    "type(g)"
   ]
  },
  {
   "cell_type": "code",
   "execution_count": 18,
   "id": "f3d1968f-5c9d-4437-a297-f19b0356bfaa",
   "metadata": {},
   "outputs": [
    {
     "data": {
      "text/plain": [
       "float"
      ]
     },
     "execution_count": 18,
     "metadata": {},
     "output_type": "execute_result"
    }
   ],
   "source": [
    "type(h)"
   ]
  },
  {
   "cell_type": "code",
   "execution_count": 36,
   "id": "a435fee9-ea23-4cbd-94e1-28d9fdd1a6f0",
   "metadata": {},
   "outputs": [],
   "source": [
    "i = 6.88"
   ]
  },
  {
   "cell_type": "code",
   "execution_count": 37,
   "id": "b3953430-f6dd-47b6-9f47-7772ffa22b68",
   "metadata": {},
   "outputs": [],
   "source": [
    "j = 3.44"
   ]
  },
  {
   "cell_type": "code",
   "execution_count": 39,
   "id": "cdfd0273-57e6-4a54-b62e-bebc3bf51824",
   "metadata": {},
   "outputs": [
    {
     "data": {
      "text/plain": [
       "2.0"
      ]
     },
     "execution_count": 39,
     "metadata": {},
     "output_type": "execute_result"
    }
   ],
   "source": [
    "i / j"
   ]
  },
  {
   "cell_type": "code",
   "execution_count": 40,
   "id": "f941760a-48b5-4dc7-aec5-568a39d0fe6c",
   "metadata": {},
   "outputs": [
    {
     "data": {
      "text/plain": [
       "float"
      ]
     },
     "execution_count": 40,
     "metadata": {},
     "output_type": "execute_result"
    }
   ],
   "source": [
    "type(i)"
   ]
  },
  {
   "cell_type": "code",
   "execution_count": 24,
   "id": "30e749fe-aada-4f70-bb8e-02c55016f04c",
   "metadata": {},
   "outputs": [
    {
     "data": {
      "text/plain": [
       "float"
      ]
     },
     "execution_count": 24,
     "metadata": {},
     "output_type": "execute_result"
    }
   ],
   "source": [
    "type(j)"
   ]
  },
  {
   "cell_type": "markdown",
   "id": "ea11b918-11fc-4db2-a222-ed0691e3f56a",
   "metadata": {},
   "source": [
    "# Construct a short word made of separate strings"
   ]
  },
  {
   "cell_type": "code",
   "execution_count": 26,
   "id": "a11ef4bf-c6f9-4619-9f53-30056a0dea18",
   "metadata": {},
   "outputs": [],
   "source": [
    "k = 'an'"
   ]
  },
  {
   "cell_type": "code",
   "execution_count": 27,
   "id": "e90c7454-2e6c-43ce-b5bd-5d83db466f05",
   "metadata": {},
   "outputs": [],
   "source": [
    "l = 'aly'"
   ]
  },
  {
   "cell_type": "code",
   "execution_count": 28,
   "id": "f33f0b2a-45b6-42be-8fdf-765f25c46829",
   "metadata": {},
   "outputs": [],
   "source": [
    "m = 'sis'"
   ]
  },
  {
   "cell_type": "code",
   "execution_count": 29,
   "id": "6f633f95-d488-45cf-b274-78662e5180d0",
   "metadata": {},
   "outputs": [
    {
     "data": {
      "text/plain": [
       "'analysis'"
      ]
     },
     "execution_count": 29,
     "metadata": {},
     "output_type": "execute_result"
    }
   ],
   "source": [
    "k + l + m"
   ]
  },
  {
   "cell_type": "code",
   "execution_count": 32,
   "id": "2b675c4f-1624-44b2-ab82-6ac8ddc11001",
   "metadata": {},
   "outputs": [
    {
     "name": "stdout",
     "output_type": "stream",
     "text": [
      "analysis\n"
     ]
    }
   ],
   "source": [
    "print(k + l + m)"
   ]
  },
  {
   "cell_type": "markdown",
   "id": "c088b45f-b407-4c3e-83ae-6994e0579294",
   "metadata": {},
   "source": [
    "# Construct 2 short sentences made of separate strings"
   ]
  },
  {
   "cell_type": "code",
   "execution_count": 43,
   "id": "2eae675f-c4c5-4d87-a300-badea0978bfc",
   "metadata": {},
   "outputs": [],
   "source": [
    "n = 'I am learning python. '"
   ]
  },
  {
   "cell_type": "code",
   "execution_count": 45,
   "id": "ee34771e-e22c-429b-9d27-2c73777dae13",
   "metadata": {},
   "outputs": [],
   "source": [
    "o = ' It is a challenge'"
   ]
  },
  {
   "cell_type": "code",
   "execution_count": 46,
   "id": "7e88cf2c-5c97-4c87-bc65-969f9334956d",
   "metadata": {},
   "outputs": [],
   "source": [
    "sentence1 = n + o"
   ]
  },
  {
   "cell_type": "code",
   "execution_count": 47,
   "id": "123ea6ab-3387-4c6d-b14a-c319ebc49143",
   "metadata": {},
   "outputs": [
    {
     "name": "stdout",
     "output_type": "stream",
     "text": [
      "I am learning python.  It is a challenge\n"
     ]
    }
   ],
   "source": [
    "print(sentence1)"
   ]
  },
  {
   "cell_type": "code",
   "execution_count": 53,
   "id": "5569b76c-1b47-46e9-890a-6e5c73616b8a",
   "metadata": {},
   "outputs": [],
   "source": [
    "p = 'So far. '"
   ]
  },
  {
   "cell_type": "code",
   "execution_count": 54,
   "id": "35ba80cd-461f-4450-98e2-6cab7b8345fc",
   "metadata": {},
   "outputs": [],
   "source": [
    "q = ' So good'"
   ]
  },
  {
   "cell_type": "code",
   "execution_count": 55,
   "id": "8cc0cc6c-1827-4bbf-9977-093aa6661850",
   "metadata": {},
   "outputs": [],
   "source": [
    "sentence2 = p + q"
   ]
  },
  {
   "cell_type": "code",
   "execution_count": 56,
   "id": "5b2c54cd-23bc-4894-a5ac-3d86f4b1616c",
   "metadata": {},
   "outputs": [
    {
     "name": "stdout",
     "output_type": "stream",
     "text": [
      "So far.  So good\n"
     ]
    }
   ],
   "source": [
    "print(sentence2)"
   ]
  }
 ],
 "metadata": {
  "kernelspec": {
   "display_name": "Python [conda env:base] *",
   "language": "python",
   "name": "conda-base-py"
  },
  "language_info": {
   "codemirror_mode": {
    "name": "ipython",
    "version": 3
   },
   "file_extension": ".py",
   "mimetype": "text/x-python",
   "name": "python",
   "nbconvert_exporter": "python",
   "pygments_lexer": "ipython3",
   "version": "3.13.5"
  }
 },
 "nbformat": 4,
 "nbformat_minor": 5
}
