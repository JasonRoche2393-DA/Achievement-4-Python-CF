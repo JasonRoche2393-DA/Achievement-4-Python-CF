{
 "cells": [
  {
   "cell_type": "markdown",
   "id": "e6dde0d1-03b7-42e4-8909-83cdb33521b6",
   "metadata": {},
   "source": [
    "I encountered issues with memory and performance, so I needed to split my Exercise into different workbooks. Here is part 2 which deals with questions 4 and 5."
   ]
  },
  {
   "cell_type": "markdown",
   "id": "4e963422-930e-4407-98c0-9c16df129817",
   "metadata": {},
   "source": [
    "Importing libraries:"
   ]
  },
  {
   "cell_type": "code",
   "execution_count": 1,
   "id": "f73bacb1-095a-4fcf-aaba-d3267129a979",
   "metadata": {},
   "outputs": [],
   "source": [
    "# import libraries\n",
    "# import libraries\n",
    "import pandas as pd\n",
    "import numpy as np\n",
    "import os\n",
    "import matplotlib.pyplot as plt\n",
    "import seaborn as sns\n",
    "import scipy"
   ]
  },
  {
   "cell_type": "markdown",
   "id": "8b777851-b717-4051-a312-dbae8aee228e",
   "metadata": {},
   "source": [
    "Create data path:"
   ]
  },
  {
   "cell_type": "code",
   "execution_count": 2,
   "id": "665c919e-112a-4416-b567-76ffb1f49c0d",
   "metadata": {},
   "outputs": [],
   "source": [
    "# Create data path\n",
    "path = r\"C:\\Users\\Jason\\Instacart Basket Analysis\""
   ]
  },
  {
   "cell_type": "code",
   "execution_count": 3,
   "id": "6aa521f0-a0fc-4af8-9267-b7c69c4cd358",
   "metadata": {},
   "outputs": [],
   "source": [
    "# Importing new PII checked dataframe\n",
    "df_customer_ords_merged_risk_free = pd.read_pickle(os.path.join(path, '02 Data', 'Prepared Data', 'df_customer_ords_merged_risk_free.pkl'))"
   ]
  },
  {
   "cell_type": "code",
   "execution_count": 4,
   "id": "13541bdd-4591-4e7a-8403-6d6a8cd5a8c9",
   "metadata": {},
   "outputs": [],
   "source": [
    "df = df_customer_ords_merged_risk_free"
   ]
  },
  {
   "cell_type": "markdown",
   "id": "90f55121-f075-4838-bc8c-524b6b8a1af2",
   "metadata": {},
   "source": [
    "4. The Instacart CFO isn’t interested in customers who don’t generate much revenue for the app. Create an exclusion flag for low-activity customers (customers with less than 5 orders) and exclude them from the data. Make sure you export this sample."
   ]
  },
  {
   "cell_type": "code",
   "execution_count": 5,
   "id": "08969335-3e21-4ecc-b350-a1c170e56cf3",
   "metadata": {},
   "outputs": [],
   "source": [
    "# Creating an exclusion flag for low-activity customers. Defined as customers with less than 5 orders\n",
    "df['exclusion_flag'] = df['order_number'] < 5"
   ]
  },
  {
   "cell_type": "code",
   "execution_count": 6,
   "id": "e6e72b05-a06a-4cdc-aae6-9fbd2117c8c4",
   "metadata": {},
   "outputs": [],
   "source": [
    "# Reviewing output of this flag\n",
    "excluded_customers = df['exclusion_flag'].value_counts()"
   ]
  },
  {
   "cell_type": "code",
   "execution_count": 7,
   "id": "b948fa6b-0000-4e5e-81ad-0fc6d83c8052",
   "metadata": {
    "scrolled": true
   },
   "outputs": [
    {
     "name": "stdout",
     "output_type": "stream",
     "text": [
      "exclusion_flag\n",
      "False    24414877\n",
      "True      7989982\n",
      "Name: count, dtype: int64\n"
     ]
    }
   ],
   "source": [
    "print(excluded_customers)"
   ]
  },
  {
   "cell_type": "code",
   "execution_count": 8,
   "id": "f68cffef-d7a3-496e-a3d9-46a2d32906f1",
   "metadata": {},
   "outputs": [],
   "source": [
    "# Creating a filter to show us the number of normal/higher activity customers. Defined as customers with more than 5 orders\n",
    "active_customers = df[df['exclusion_flag'] == False]"
   ]
  },
  {
   "cell_type": "code",
   "execution_count": 9,
   "id": "6019b74c-1e29-4ea3-bc8a-70c105cd6a20",
   "metadata": {},
   "outputs": [
    {
     "data": {
      "text/plain": [
       "162631"
      ]
     },
     "execution_count": 9,
     "metadata": {},
     "output_type": "execute_result"
    }
   ],
   "source": [
    "# Reviewing output of this flag\n",
    "active_customers['user_id'].nunique()"
   ]
  },
  {
   "cell_type": "code",
   "execution_count": 10,
   "id": "ee95091f-2db3-46ba-b87e-4ace09fc2daf",
   "metadata": {},
   "outputs": [],
   "source": [
    "# Exporting the sample\n",
    "active_customers.to_pickle(os.path.join(path, '02 Data', 'Prepared Data', 'df_active_customers.pkl'))"
   ]
  },
  {
   "cell_type": "code",
   "execution_count": null,
   "id": "45ffc4c2-e2f5-4796-87b6-36593f28a7f9",
   "metadata": {},
   "outputs": [],
   "source": []
  }
 ],
 "metadata": {
  "kernelspec": {
   "display_name": "Python [conda env:base] *",
   "language": "python",
   "name": "conda-base-py"
  },
  "language_info": {
   "codemirror_mode": {
    "name": "ipython",
    "version": 3
   },
   "file_extension": ".py",
   "mimetype": "text/x-python",
   "name": "python",
   "nbconvert_exporter": "python",
   "pygments_lexer": "ipython3",
   "version": "3.13.5"
  }
 },
 "nbformat": 4,
 "nbformat_minor": 5
}
