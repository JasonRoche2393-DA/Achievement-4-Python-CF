{
 "cells": [
  {
   "cell_type": "markdown",
   "id": "1c316270-4a7d-4338-a04d-5106501ef8b3",
   "metadata": {},
   "source": [
    "Import libraries:"
   ]
  },
  {
   "cell_type": "code",
   "execution_count": 1,
   "id": "3f363f6b-499f-49a3-ab42-cf29ac7d3531",
   "metadata": {},
   "outputs": [],
   "source": [
    "# Importing libraries\n",
    "import pandas as pd\n",
    "import numpy as np\n",
    "import os\n",
    "import matplotlib.pyplot as plt\n",
    "import seaborn as sns\n",
    "import scipy"
   ]
  },
  {
   "cell_type": "markdown",
   "id": "9d09ed43-a867-4e19-b771-2e2b108bf26f",
   "metadata": {},
   "source": [
    "Create data path:"
   ]
  },
  {
   "cell_type": "code",
   "execution_count": 2,
   "id": "747586cf-933a-4843-9da1-e3fc0e95b1fe",
   "metadata": {},
   "outputs": [],
   "source": [
    "# Create data path\n",
    "path = r\"C:\\Users\\Jason\\Instacart Basket Analysis\""
   ]
  },
  {
   "cell_type": "markdown",
   "id": "0702833e-2e1e-44f6-97af-5656ddb78d0e",
   "metadata": {},
   "source": [
    "Importing data set used in Exercise 4.9 - Part 1:"
   ]
  },
  {
   "cell_type": "code",
   "execution_count": 3,
   "id": "ebb4468d-f550-48b1-a8fe-1b49e21311fe",
   "metadata": {},
   "outputs": [],
   "source": [
    "# Importing new merged dataframe\n",
    "df_customer_ords_merged = pd.read_pickle(os.path.join(path, '02 Data', 'Prepared Data', 'orders_products_customers_merged.pkl'))"
   ]
  },
  {
   "cell_type": "code",
   "execution_count": 4,
   "id": "5f522ccc-18b3-447d-8dcb-c0e58f4a201f",
   "metadata": {},
   "outputs": [
    {
     "data": {
      "text/plain": [
       "(32404859, 32)"
      ]
     },
     "execution_count": 4,
     "metadata": {},
     "output_type": "execute_result"
    }
   ],
   "source": [
    "df_customer_ords_merged.shape"
   ]
  },
  {
   "cell_type": "code",
   "execution_count": 5,
   "id": "a79400ba-230c-464a-9ce7-4690931f6ab3",
   "metadata": {},
   "outputs": [
    {
     "data": {
      "text/html": [
       "<div>\n",
       "<style scoped>\n",
       "    .dataframe tbody tr th:only-of-type {\n",
       "        vertical-align: middle;\n",
       "    }\n",
       "\n",
       "    .dataframe tbody tr th {\n",
       "        vertical-align: top;\n",
       "    }\n",
       "\n",
       "    .dataframe thead th {\n",
       "        text-align: right;\n",
       "    }\n",
       "</style>\n",
       "<table border=\"1\" class=\"dataframe\">\n",
       "  <thead>\n",
       "    <tr style=\"text-align: right;\">\n",
       "      <th></th>\n",
       "      <th>order_id</th>\n",
       "      <th>user_id</th>\n",
       "      <th>order_number</th>\n",
       "      <th>orders_day_of_week</th>\n",
       "      <th>order_hour_of_day</th>\n",
       "      <th>days_since_prior_order</th>\n",
       "      <th>product_id</th>\n",
       "      <th>add_to_cart_order</th>\n",
       "      <th>reordered</th>\n",
       "      <th>product_name</th>\n",
       "      <th>...</th>\n",
       "      <th>Unnamed: 0</th>\n",
       "      <th>First Name</th>\n",
       "      <th>Surname</th>\n",
       "      <th>Gender</th>\n",
       "      <th>State</th>\n",
       "      <th>Age</th>\n",
       "      <th>Date Joined</th>\n",
       "      <th>Number of Dependents</th>\n",
       "      <th>Family Status</th>\n",
       "      <th>Income</th>\n",
       "    </tr>\n",
       "  </thead>\n",
       "  <tbody>\n",
       "    <tr>\n",
       "      <th>0</th>\n",
       "      <td>2539329</td>\n",
       "      <td>1</td>\n",
       "      <td>1</td>\n",
       "      <td>2</td>\n",
       "      <td>8</td>\n",
       "      <td>7.0</td>\n",
       "      <td>196</td>\n",
       "      <td>1</td>\n",
       "      <td>0</td>\n",
       "      <td>Soda</td>\n",
       "      <td>...</td>\n",
       "      <td>134862</td>\n",
       "      <td>Linda</td>\n",
       "      <td>Nguyen</td>\n",
       "      <td>Female</td>\n",
       "      <td>Alabama</td>\n",
       "      <td>31</td>\n",
       "      <td>2/17/2019</td>\n",
       "      <td>3</td>\n",
       "      <td>married</td>\n",
       "      <td>40423</td>\n",
       "    </tr>\n",
       "    <tr>\n",
       "      <th>1</th>\n",
       "      <td>2539329</td>\n",
       "      <td>1</td>\n",
       "      <td>1</td>\n",
       "      <td>2</td>\n",
       "      <td>8</td>\n",
       "      <td>7.0</td>\n",
       "      <td>14084</td>\n",
       "      <td>2</td>\n",
       "      <td>0</td>\n",
       "      <td>Organic Unsweetened Vanilla Almond Milk</td>\n",
       "      <td>...</td>\n",
       "      <td>134862</td>\n",
       "      <td>Linda</td>\n",
       "      <td>Nguyen</td>\n",
       "      <td>Female</td>\n",
       "      <td>Alabama</td>\n",
       "      <td>31</td>\n",
       "      <td>2/17/2019</td>\n",
       "      <td>3</td>\n",
       "      <td>married</td>\n",
       "      <td>40423</td>\n",
       "    </tr>\n",
       "    <tr>\n",
       "      <th>2</th>\n",
       "      <td>2539329</td>\n",
       "      <td>1</td>\n",
       "      <td>1</td>\n",
       "      <td>2</td>\n",
       "      <td>8</td>\n",
       "      <td>7.0</td>\n",
       "      <td>12427</td>\n",
       "      <td>3</td>\n",
       "      <td>0</td>\n",
       "      <td>Original Beef Jerky</td>\n",
       "      <td>...</td>\n",
       "      <td>134862</td>\n",
       "      <td>Linda</td>\n",
       "      <td>Nguyen</td>\n",
       "      <td>Female</td>\n",
       "      <td>Alabama</td>\n",
       "      <td>31</td>\n",
       "      <td>2/17/2019</td>\n",
       "      <td>3</td>\n",
       "      <td>married</td>\n",
       "      <td>40423</td>\n",
       "    </tr>\n",
       "    <tr>\n",
       "      <th>3</th>\n",
       "      <td>2539329</td>\n",
       "      <td>1</td>\n",
       "      <td>1</td>\n",
       "      <td>2</td>\n",
       "      <td>8</td>\n",
       "      <td>7.0</td>\n",
       "      <td>26088</td>\n",
       "      <td>4</td>\n",
       "      <td>0</td>\n",
       "      <td>Aged White Cheddar Popcorn</td>\n",
       "      <td>...</td>\n",
       "      <td>134862</td>\n",
       "      <td>Linda</td>\n",
       "      <td>Nguyen</td>\n",
       "      <td>Female</td>\n",
       "      <td>Alabama</td>\n",
       "      <td>31</td>\n",
       "      <td>2/17/2019</td>\n",
       "      <td>3</td>\n",
       "      <td>married</td>\n",
       "      <td>40423</td>\n",
       "    </tr>\n",
       "    <tr>\n",
       "      <th>4</th>\n",
       "      <td>2539329</td>\n",
       "      <td>1</td>\n",
       "      <td>1</td>\n",
       "      <td>2</td>\n",
       "      <td>8</td>\n",
       "      <td>7.0</td>\n",
       "      <td>26405</td>\n",
       "      <td>5</td>\n",
       "      <td>0</td>\n",
       "      <td>XL Pick-A-Size Paper Towel Rolls</td>\n",
       "      <td>...</td>\n",
       "      <td>134862</td>\n",
       "      <td>Linda</td>\n",
       "      <td>Nguyen</td>\n",
       "      <td>Female</td>\n",
       "      <td>Alabama</td>\n",
       "      <td>31</td>\n",
       "      <td>2/17/2019</td>\n",
       "      <td>3</td>\n",
       "      <td>married</td>\n",
       "      <td>40423</td>\n",
       "    </tr>\n",
       "  </tbody>\n",
       "</table>\n",
       "<p>5 rows × 32 columns</p>\n",
       "</div>"
      ],
      "text/plain": [
       "   order_id  user_id  order_number  orders_day_of_week  order_hour_of_day  \\\n",
       "0   2539329        1             1                   2                  8   \n",
       "1   2539329        1             1                   2                  8   \n",
       "2   2539329        1             1                   2                  8   \n",
       "3   2539329        1             1                   2                  8   \n",
       "4   2539329        1             1                   2                  8   \n",
       "\n",
       "   days_since_prior_order  product_id  add_to_cart_order  reordered  \\\n",
       "0                     7.0         196                  1          0   \n",
       "1                     7.0       14084                  2          0   \n",
       "2                     7.0       12427                  3          0   \n",
       "3                     7.0       26088                  4          0   \n",
       "4                     7.0       26405                  5          0   \n",
       "\n",
       "                              product_name  ...  Unnamed: 0  First Name  \\\n",
       "0                                     Soda  ...      134862       Linda   \n",
       "1  Organic Unsweetened Vanilla Almond Milk  ...      134862       Linda   \n",
       "2                      Original Beef Jerky  ...      134862       Linda   \n",
       "3               Aged White Cheddar Popcorn  ...      134862       Linda   \n",
       "4         XL Pick-A-Size Paper Towel Rolls  ...      134862       Linda   \n",
       "\n",
       "   Surname  Gender    State Age  Date Joined Number of Dependents  \\\n",
       "0   Nguyen  Female  Alabama  31    2/17/2019                    3   \n",
       "1   Nguyen  Female  Alabama  31    2/17/2019                    3   \n",
       "2   Nguyen  Female  Alabama  31    2/17/2019                    3   \n",
       "3   Nguyen  Female  Alabama  31    2/17/2019                    3   \n",
       "4   Nguyen  Female  Alabama  31    2/17/2019                    3   \n",
       "\n",
       "   Family Status Income  \n",
       "0        married  40423  \n",
       "1        married  40423  \n",
       "2        married  40423  \n",
       "3        married  40423  \n",
       "4        married  40423  \n",
       "\n",
       "[5 rows x 32 columns]"
      ]
     },
     "execution_count": 5,
     "metadata": {},
     "output_type": "execute_result"
    }
   ],
   "source": [
    "df_customer_ords_merged.head()"
   ]
  },
  {
   "cell_type": "markdown",
   "id": "56dd59dd-6ed5-491f-a125-ea762a1f4716",
   "metadata": {},
   "source": [
    "2. If you haven’t done so already, follow the instructions in the Exercise to create a bar chart, a histogram, a scatterplot, and a line chart, using a sample subset for the line chart. - Attached in another notebook called Practice 4.9 (1) and Practice 4.9 (2)"
   ]
  },
  {
   "cell_type": "markdown",
   "id": "74614015-5f20-42c0-9430-86b121874a4a",
   "metadata": {},
   "source": [
    "3. You need to provide the Instacart senior stakeholders with descriptive findings about sales. Create a histogram of the “order_hour_of_day” column."
   ]
  },
  {
   "cell_type": "code",
   "execution_count": 6,
   "id": "88f40d58-f1fd-489f-9924-d057ff10c7f6",
   "metadata": {
    "scrolled": true
   },
   "outputs": [
    {
     "data": {
      "image/png": "[encoded data removed]",
      "text/plain": [
       "<Figure size 640x480 with 1 Axes>"
      ]
     },
     "metadata": {},
     "output_type": "display_data"
    }
   ],
   "source": [
    "# Creating a histogram for 'order_hour_of_day' with 24 bins\n",
    "hist = df_customer_ords_merged['order_hour_of_day'].plot.hist(bins = 24)"
   ]
  },
  {
   "cell_type": "markdown",
   "id": "3ab54fbd-2323-4f87-8519-4aac983432ce",
   "metadata": {},
   "source": [
    "As seen in the histogram above, the busiest hours tend to be between the hours of 8am - 4pm. We see a drop off after the 4pm slot."
   ]
  },
  {
   "cell_type": "code",
   "execution_count": 25,
   "id": "6c1459f5-5f5e-417d-bc87-2ddea6e32f26",
   "metadata": {},
   "outputs": [
    {
     "data": {
      "image/png": "[encoded data removed]",
      "text/plain": [
       "<Figure size 800x500 with 1 Axes>"
      ]
     },
     "metadata": {},
     "output_type": "display_data"
    }
   ],
   "source": [
    "import matplotlib.pyplot as plt7\n",
    "\n",
    "# Create a mapping from numeric day to day name as per the Achievement brief\n",
    "day_map = {\n",
    "    0: 'Saturday',\n",
    "    1: 'Sunday',\n",
    "    2: 'Monday',\n",
    "    3: 'Tuesday',\n",
    "    4: 'Wednesday',\n",
    "    5: 'Thursday',\n",
    "    6: 'Friday'\n",
    "}\n",
    "\n",
    "df_customer_ords_merged['day_name'] = df_customer_ords_merged['orders_day_of_week'].map(day_map)\n",
    "\n",
    "order_counts_named = df_customer_ords_merged['day_name'].value_counts().reindex(day_map.values())\n",
    "\n",
    "# Plot the bar chart\n",
    "plt7.figure(figsize=(8, 5))\n",
    "order_counts_named.plot(kind='bar', color='mediumseagreen')\n",
    "\n",
    "# Customize the plot\n",
    "plt7.title('Number of Orders by Day of the Week')\n",
    "plt7.xlabel('Day of the Week')\n",
    "plt7.ylabel('Number of Orders')\n",
    "plt7.xticks(rotation=45)\n",
    "\n",
    "plt7.tight_layout()\n",
    "plt7.show()"
   ]
  },
  {
   "cell_type": "markdown",
   "id": "e37eb3a8-449e-4fd6-8c2b-8f4e2fc59bb4",
   "metadata": {},
   "source": [
    "4. The marketing team is curious about the distribution of orders among customers in terms of loyalty. Create a bar chart from the “loyalty_flag” column."
   ]
  },
  {
   "cell_type": "code",
   "execution_count": 7,
   "id": "5491aac3-00f2-4384-ad25-5084e7bf5eef",
   "metadata": {},
   "outputs": [
    {
     "data": {
      "image/png": "[encoded data removed]",
      "text/plain": [
       "<Figure size 640x480 with 1 Axes>"
      ]
     },
     "metadata": {},
     "output_type": "display_data"
    }
   ],
   "source": [
    "# Creating a bar chart from the 'loyalty_flag' column\n",
    "bar = df_customer_ords_merged['loyalty_flag'].value_counts().plot.bar()"
   ]
  },
  {
   "cell_type": "code",
   "execution_count": 8,
   "id": "e87825e1-2a51-4247-8b0b-3fee05f305be",
   "metadata": {},
   "outputs": [
    {
     "data": {
      "text/plain": [
       "loyalty_flag\n",
       "Regular customer    15876776\n",
       "Loyal customer      10284093\n",
       "New customer         6243990\n",
       "Name: count, dtype: int64"
      ]
     },
     "execution_count": 8,
     "metadata": {},
     "output_type": "execute_result"
    }
   ],
   "source": [
    "df_customer_ords_merged['loyalty_flag'].value_counts()"
   ]
  },
  {
   "cell_type": "markdown",
   "id": "c0904338-7488-40db-ae81-02b33dfa92af",
   "metadata": {},
   "source": [
    "5. Check whether there’s a difference in expenditure (the “prices” column) depending on the hour of the day."
   ]
  },
  {
   "cell_type": "code",
   "execution_count": 9,
   "id": "d032a280-62b5-4bbe-8ae2-94666a28fd06",
   "metadata": {},
   "outputs": [],
   "source": [
    "# Creating an accurate sample for the line chart\n",
    "np.random.seed(4)"
   ]
  },
  {
   "cell_type": "code",
   "execution_count": 10,
   "id": "40f7e243-b6ec-4b70-ab05-9b541fb524f6",
   "metadata": {},
   "outputs": [],
   "source": [
    "# Creating an accurate sample for the line chart\n",
    "dev = np.random.rand(len(df_customer_ords_merged)) <= 0.7"
   ]
  },
  {
   "cell_type": "code",
   "execution_count": 11,
   "id": "9fc0564c-ffba-4500-a10c-4a8018054112",
   "metadata": {},
   "outputs": [],
   "source": [
    "# Creating an accurate sample for the line chart\n",
    "big = df_customer_ords_merged[dev]"
   ]
  },
  {
   "cell_type": "code",
   "execution_count": 12,
   "id": "972511fc-1d7f-45cf-a429-bb184ff3ea0b",
   "metadata": {},
   "outputs": [],
   "source": [
    "# Creating an accurate sample for the line chart\n",
    "small = df_customer_ords_merged[~dev]"
   ]
  },
  {
   "cell_type": "code",
   "execution_count": 13,
   "id": "d056e5b5-48a2-40b3-8717-308476d72426",
   "metadata": {},
   "outputs": [
    {
     "data": {
      "text/plain": [
       "32404859"
      ]
     },
     "execution_count": 13,
     "metadata": {},
     "output_type": "execute_result"
    }
   ],
   "source": [
    "# Reviewing output\n",
    "len(df_customer_ords_merged)"
   ]
  },
  {
   "cell_type": "code",
   "execution_count": 14,
   "id": "bb687ccc-a725-476c-94d5-3072eae8becf",
   "metadata": {},
   "outputs": [
    {
     "data": {
      "text/plain": [
       "32404859"
      ]
     },
     "execution_count": 14,
     "metadata": {},
     "output_type": "execute_result"
    }
   ],
   "source": [
    "# Reviewing output\n",
    "len(big) + len (small)"
   ]
  },
  {
   "cell_type": "code",
   "execution_count": 15,
   "id": "5d9cabd0-ae4e-4bdb-aac0-549ebdfc7a5e",
   "metadata": {},
   "outputs": [],
   "source": [
    "# Creating 'relevant_columns' variable for the chart\n",
    "df_relevant_columns = small[['prices', 'order_hour_of_day']]"
   ]
  },
  {
   "cell_type": "code",
   "execution_count": 16,
   "id": "1555650f-f81a-4108-adf9-cdf213c3bc1c",
   "metadata": {},
   "outputs": [
    {
     "data": {
      "image/png": "[encoded data removed]",
      "text/plain": [
       "<Figure size 640x480 with 1 Axes>"
      ]
     },
     "metadata": {},
     "output_type": "display_data"
    }
   ],
   "source": [
    "# Creating line chart\n",
    "line = sns.lineplot(data = df_relevant_columns, x = 'order_hour_of_day', y = 'prices')"
   ]
  },
  {
   "cell_type": "markdown",
   "id": "39ae9a11-c4e0-4e9c-9144-18798c797808",
   "metadata": {},
   "source": [
    "From the chart, it is clear that there is a difference in expenditure depending on the hour of the day.\n",
    "- We see high prices in the night hours and consistent order volume through the working day (8am-4pm again)\n",
    "- We see a fall in orders and prices in the evening after 8pm, which leads back to the massive rise in betwee 12am - 5am."
   ]
  },
  {
   "cell_type": "markdown",
   "id": "266899b6-fda2-4b16-8169-94eb538bbfef",
   "metadata": {},
   "source": [
    "Exporting graphs:"
   ]
  },
  {
   "cell_type": "code",
   "execution_count": 17,
   "id": "b3236513-b083-4381-a64f-6a01c0748a4e",
   "metadata": {},
   "outputs": [],
   "source": [
    "# Histogram\n",
    "hist.figure.savefig(os.path.join(path, '04 Analysis', 'Visualisations', 'order_hour_day_histogram.png'))"
   ]
  },
  {
   "cell_type": "code",
   "execution_count": 18,
   "id": "296db407-1063-4be7-8be7-96c49a11ce1b",
   "metadata": {},
   "outputs": [],
   "source": [
    "# Bar chart\n",
    "bar.figure.savefig(os.path.join(path, '04 Analysis', 'Visualisations', 'loyalty_bar.png'))"
   ]
  },
  {
   "cell_type": "code",
   "execution_count": 19,
   "id": "185e3e0a-94f7-4478-9215-8b2f60f9b9b6",
   "metadata": {},
   "outputs": [],
   "source": [
    "# Line chart\n",
    "line.figure.savefig(os.path.join(path, '04 Analysis', 'Visualisations', 'expenditure_line.png'))"
   ]
  },
  {
   "cell_type": "code",
   "execution_count": 26,
   "id": "a867d390-05a9-486e-83cb-fa3ff240966e",
   "metadata": {},
   "outputs": [
    {
     "data": {
      "text/plain": [
       "<Figure size 640x480 with 0 Axes>"
      ]
     },
     "metadata": {},
     "output_type": "display_data"
    }
   ],
   "source": [
    "# Histogram 2\n",
    "plt7.savefig(os.path.join(path, '04 Analysis', 'Visualisations', 'busiest_days.png'))"
   ]
  },
  {
   "cell_type": "code",
   "execution_count": null,
   "id": "c4674fc4-4811-4562-b4bf-3ae8cd722d50",
   "metadata": {},
   "outputs": [],
   "source": []
  }
 ],
 "metadata": {
  "kernelspec": {
   "display_name": "Python [conda env:base] *",
   "language": "python",
   "name": "conda-base-py"
  },
  "language_info": {
   "codemirror_mode": {
    "name": "ipython",
    "version": 3
   },
   "file_extension": ".py",
   "mimetype": "text/x-python",
   "name": "python",
   "nbconvert_exporter": "python",
   "pygments_lexer": "ipython3",
   "version": "3.13.5"
  }
 },
 "nbformat": 4,
 "nbformat_minor": 5
}
